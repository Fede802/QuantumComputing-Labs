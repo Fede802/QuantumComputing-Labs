{
 "cells": [
  {
   "cell_type": "code",
   "execution_count": 12,
   "metadata": {},
   "outputs": [],
   "source": [
    "import os\n",
    "import sys\n",
    "sys.path.insert(0, os.path.abspath('../utils'))\n",
    "import Helpers as hp\n",
    "import qiskit\n",
    "from qiskit import QuantumCircuit\n",
    "from qiskit.quantum_info import Statevector # to compute state vectors\n",
    "from qiskit.visualization import array_to_latex\n",
    "import numpy as np\n",
    "from IPython.display import display, Markdown, Latex"
   ]
  },
  {
   "cell_type": "markdown",
   "metadata": {},
   "source": [
    "# Qiskit convention"
   ]
  },
  {
   "cell_type": "markdown",
   "metadata": {},
   "source": [
    "Reading qbits top to bottom:\n",
    "- Theory: input lsb go to the last qbit and input msb go to the first one\n",
    "- Qiskit: input lsb go to the first qbit and input msb go to the last one"
   ]
  },
  {
   "cell_type": "code",
   "execution_count": 13,
   "metadata": {},
   "outputs": [
    {
     "data": {
      "text/markdown": [
       "### Layout"
      ],
      "text/plain": [
       "<IPython.core.display.Markdown object>"
      ]
     },
     "metadata": {},
     "output_type": "display_data"
    },
    {
     "data": {
      "image/png": "[encoded data removed]",
      "text/plain": [
       "<Figure size 203.683x200.667 with 1 Axes>"
      ]
     },
     "metadata": {},
     "output_type": "display_data"
    },
    {
     "data": {
      "text/markdown": [
       "### Unitary Matrix"
      ],
      "text/plain": [
       "<IPython.core.display.Markdown object>"
      ]
     },
     "metadata": {},
     "output_type": "display_data"
    },
    {
     "data": {
      "text/latex": [
       "$\\begin{bmatrix}\n",
       "1 & 0 & 0 & 0  \\\\\n",
       " 0 & 0 & 0 & 1  \\\\\n",
       " 0 & 0 & 1 & 0  \\\\\n",
       " 0 & 1 & 0 & 0  \\\\\n",
       " \\end{bmatrix}$"
      ],
      "text/plain": [
       "<IPython.core.display.Latex object>"
      ]
     },
     "metadata": {},
     "output_type": "display_data"
    },
    {
     "data": {
      "text/markdown": [
       "### Input Statevector"
      ],
      "text/plain": [
       "<IPython.core.display.Markdown object>"
      ]
     },
     "metadata": {},
     "output_type": "display_data"
    },
    {
     "data": {
      "text/latex": [
       "$\n",
       "\\text{Statevector = }\n",
       "\\begin{bmatrix}\n",
       "0 & 1 & 0 & 0  \\\\\n",
       " \\end{bmatrix}\n",
       " = \\displaystyle|01 \\rangle$"
      ],
      "text/plain": [
       "<IPython.core.display.Latex object>"
      ]
     },
     "metadata": {},
     "output_type": "display_data"
    },
    {
     "data": {
      "text/markdown": [
       "### Output Statevector"
      ],
      "text/plain": [
       "<IPython.core.display.Markdown object>"
      ]
     },
     "metadata": {},
     "output_type": "display_data"
    },
    {
     "data": {
      "text/latex": [
       "$\n",
       "\\text{Statevector = }\n",
       "\\begin{bmatrix}\n",
       "0 & 0 & 0 & 1  \\\\\n",
       " \\end{bmatrix}\n",
       " = \\displaystyle|11 \\rangle$"
      ],
      "text/plain": [
       "<IPython.core.display.Latex object>"
      ]
     },
     "metadata": {},
     "output_type": "display_data"
    }
   ],
   "source": [
    "qc=QuantumCircuit(2)\n",
    "qc.cx(0,1)\n",
    "stateVecIn = Statevector([0, 1, 0, 0]) # |01> \n",
    "stateVecOut=stateVecIn.evolve(qc) #|11> =>> so msb go to q1 and lsb go to q0\n",
    "hp.display_info(qc, stateVecIn, \"|01 \\\\rangle\", stateVecOut, \"|11 \\\\rangle\")"
   ]
  },
  {
   "cell_type": "markdown",
   "metadata": {},
   "source": [
    "# Exercise 2\n",
    "\n",
    "![es2](res/es2.png)"
   ]
  },
  {
   "cell_type": "code",
   "execution_count": 14,
   "metadata": {},
   "outputs": [
    {
     "data": {
      "text/markdown": [
       "## Circuit 1: X Gate (NOT Gate)"
      ],
      "text/plain": [
       "<IPython.core.display.Markdown object>"
      ]
     },
     "metadata": {},
     "output_type": "display_data"
    },
    {
     "data": {
      "text/markdown": [
       "### Layout"
      ],
      "text/plain": [
       "<IPython.core.display.Markdown object>"
      ]
     },
     "metadata": {},
     "output_type": "display_data"
    },
    {
     "data": {
      "image/png": "[encoded data removed]",
      "text/plain": [
       "<Figure size 185.453x117.056 with 1 Axes>"
      ]
     },
     "metadata": {},
     "output_type": "display_data"
    },
    {
     "data": {
      "text/markdown": [
       "### Unitary Matrix"
      ],
      "text/plain": [
       "<IPython.core.display.Markdown object>"
      ]
     },
     "metadata": {},
     "output_type": "display_data"
    },
    {
     "data": {
      "text/latex": [
       "$\\begin{bmatrix}\n",
       "0 & 1  \\\\\n",
       " 1 & 0  \\\\\n",
       " \\end{bmatrix}$"
      ],
      "text/plain": [
       "<IPython.core.display.Latex object>"
      ]
     },
     "metadata": {},
     "output_type": "display_data"
    },
    {
     "data": {
      "text/markdown": [
       "### Input Statevector"
      ],
      "text/plain": [
       "<IPython.core.display.Markdown object>"
      ]
     },
     "metadata": {},
     "output_type": "display_data"
    },
    {
     "data": {
      "text/latex": [
       "$\n",
       "\\text{Statevector = }\n",
       "\\begin{bmatrix}\n",
       "1 & 0  \\\\\n",
       " \\end{bmatrix}\n",
       " = \\displaystyle|0\\rangle$"
      ],
      "text/plain": [
       "<IPython.core.display.Latex object>"
      ]
     },
     "metadata": {},
     "output_type": "display_data"
    },
    {
     "data": {
      "text/markdown": [
       "### Output Statevector"
      ],
      "text/plain": [
       "<IPython.core.display.Markdown object>"
      ]
     },
     "metadata": {},
     "output_type": "display_data"
    },
    {
     "data": {
      "text/latex": [
       "$\n",
       "\\text{Statevector = }\n",
       "\\begin{bmatrix}\n",
       "0 & 1  \\\\\n",
       " \\end{bmatrix}\n",
       " = \\displaystyle|1\\rangle$"
      ],
      "text/plain": [
       "<IPython.core.display.Latex object>"
      ]
     },
     "metadata": {},
     "output_type": "display_data"
    }
   ],
   "source": [
    "display(Markdown(\"## Circuit 1: X Gate (NOT Gate)\"))\n",
    "qc=QuantumCircuit(1)\n",
    "qc.x(0)\n",
    "stateVecIn = Statevector([1, 0])\n",
    "stateVecOut=stateVecIn.evolve(qc)\n",
    "hp.display_info(qc, stateVecIn, \"|0\\\\rangle\", stateVecOut, \"|1\\\\rangle\")"
   ]
  },
  {
   "cell_type": "code",
   "execution_count": 15,
   "metadata": {},
   "outputs": [
    {
     "data": {
      "text/markdown": [
       "## Circuit 2: Y Gate"
      ],
      "text/plain": [
       "<IPython.core.display.Markdown object>"
      ]
     },
     "metadata": {},
     "output_type": "display_data"
    },
    {
     "data": {
      "text/markdown": [
       "### Layout"
      ],
      "text/plain": [
       "<IPython.core.display.Markdown object>"
      ]
     },
     "metadata": {},
     "output_type": "display_data"
    },
    {
     "data": {
      "image/png": "[encoded data removed]",
      "text/plain": [
       "<Figure size 185.453x117.056 with 1 Axes>"
      ]
     },
     "metadata": {},
     "output_type": "display_data"
    },
    {
     "data": {
      "text/markdown": [
       "### Unitary Matrix"
      ],
      "text/plain": [
       "<IPython.core.display.Markdown object>"
      ]
     },
     "metadata": {},
     "output_type": "display_data"
    },
    {
     "data": {
      "text/latex": [
       "$\\begin{bmatrix}\n",
       "0 & - i  \\\\\n",
       " i & 0  \\\\\n",
       " \\end{bmatrix}$"
      ],
      "text/plain": [
       "<IPython.core.display.Latex object>"
      ]
     },
     "metadata": {},
     "output_type": "display_data"
    },
    {
     "data": {
      "text/markdown": [
       "### Input Statevector"
      ],
      "text/plain": [
       "<IPython.core.display.Markdown object>"
      ]
     },
     "metadata": {},
     "output_type": "display_data"
    },
    {
     "data": {
      "text/latex": [
       "$\n",
       "\\text{Statevector = }\n",
       "\\begin{bmatrix}\n",
       "\\frac{\\sqrt{2}}{2} & \\frac{\\sqrt{2} i}{2}  \\\\\n",
       " \\end{bmatrix}\n",
       " = \\displaystyle\\frac{|0\\rangle + i|1\\rangle}{\\sqrt{2}}$"
      ],
      "text/plain": [
       "<IPython.core.display.Latex object>"
      ]
     },
     "metadata": {},
     "output_type": "display_data"
    },
    {
     "data": {
      "text/markdown": [
       "### Output Statevector"
      ],
      "text/plain": [
       "<IPython.core.display.Markdown object>"
      ]
     },
     "metadata": {},
     "output_type": "display_data"
    },
    {
     "data": {
      "text/latex": [
       "$\n",
       "\\text{Statevector = }\n",
       "\\begin{bmatrix}\n",
       "\\frac{\\sqrt{2}}{2} & \\frac{\\sqrt{2} i}{2}  \\\\\n",
       " \\end{bmatrix}\n",
       " = \\displaystyle\\frac{|0\\rangle + i|1\\rangle}{\\sqrt{2}}$"
      ],
      "text/plain": [
       "<IPython.core.display.Latex object>"
      ]
     },
     "metadata": {},
     "output_type": "display_data"
    }
   ],
   "source": [
    "display(Markdown(\"## Circuit 2: Y Gate\"))\n",
    "qc=QuantumCircuit(1)\n",
    "qc.y(0)\n",
    "stateVecIn=Statevector([1/np.sqrt(2), 1j/np.sqrt(2)])\n",
    "stateVecOut=stateVecIn.evolve(qc)\n",
    "hp.display_info(qc,stateVecIn, \"\\\\frac{|0\\\\rangle + i|1\\\\rangle}{\\sqrt{2}}\", stateVecOut, \"\\\\frac{|0\\\\rangle + i|1\\\\rangle}{\\sqrt{2}}\")"
   ]
  },
  {
   "cell_type": "markdown",
   "metadata": {},
   "source": [
    "### Comment on solution\n",
    "$ \\textbf{Recall:} \\quad i^2 = -1 $\n",
    "$$\n",
    "\\begin{bmatrix}\n",
    "0 & -i\\\\\n",
    "i & 0\n",
    "\\end{bmatrix}\n",
    "\\begin{bmatrix}\n",
    "\\displaystyle\\frac{\\sqrt{2}}{2}\\\\\n",
    "\\displaystyle\\frac{\\sqrt{2}i}{2}\n",
    "\\end{bmatrix}\n",
    "=\n",
    "\\begin{bmatrix}\n",
    "\\displaystyle\\frac{-\\sqrt{2}i^2}{2}\\\\\n",
    "\\displaystyle\\frac{\\sqrt{2}i}{2}\n",
    "\\end{bmatrix}\n",
    "=\n",
    "\\begin{bmatrix}\n",
    "\\displaystyle\\frac{\\sqrt{2}}{2}\\\\\n",
    "\\displaystyle\\frac{\\sqrt{2}i}{2}    \n",
    "\\end{bmatrix}\n",
    "$$"
   ]
  },
  {
   "cell_type": "code",
   "execution_count": 16,
   "metadata": {},
   "outputs": [
    {
     "data": {
      "text/markdown": [
       "## Circuit 3: H Gate (Hadamard Gate)"
      ],
      "text/plain": [
       "<IPython.core.display.Markdown object>"
      ]
     },
     "metadata": {},
     "output_type": "display_data"
    },
    {
     "data": {
      "text/markdown": [
       "### Layout"
      ],
      "text/plain": [
       "<IPython.core.display.Markdown object>"
      ]
     },
     "metadata": {},
     "output_type": "display_data"
    },
    {
     "data": {
      "image/png": "[encoded data removed]",
      "text/plain": [
       "<Figure size 185.453x117.056 with 1 Axes>"
      ]
     },
     "metadata": {},
     "output_type": "display_data"
    },
    {
     "data": {
      "text/markdown": [
       "### Unitary Matrix"
      ],
      "text/plain": [
       "<IPython.core.display.Markdown object>"
      ]
     },
     "metadata": {},
     "output_type": "display_data"
    },
    {
     "data": {
      "text/latex": [
       "$\\begin{bmatrix}\n",
       "\\frac{\\sqrt{2}}{2} & \\frac{\\sqrt{2}}{2}  \\\\\n",
       " \\frac{\\sqrt{2}}{2} & - \\frac{\\sqrt{2}}{2}  \\\\\n",
       " \\end{bmatrix}$"
      ],
      "text/plain": [
       "<IPython.core.display.Latex object>"
      ]
     },
     "metadata": {},
     "output_type": "display_data"
    },
    {
     "data": {
      "text/markdown": [
       "### Input Statevector"
      ],
      "text/plain": [
       "<IPython.core.display.Markdown object>"
      ]
     },
     "metadata": {},
     "output_type": "display_data"
    },
    {
     "data": {
      "text/latex": [
       "$\n",
       "\\text{Statevector = }\n",
       "\\begin{bmatrix}\n",
       "1 & 0  \\\\\n",
       " \\end{bmatrix}\n",
       " = \\displaystyle|0\\rangle$"
      ],
      "text/plain": [
       "<IPython.core.display.Latex object>"
      ]
     },
     "metadata": {},
     "output_type": "display_data"
    },
    {
     "data": {
      "text/markdown": [
       "### Output Statevector"
      ],
      "text/plain": [
       "<IPython.core.display.Markdown object>"
      ]
     },
     "metadata": {},
     "output_type": "display_data"
    },
    {
     "data": {
      "text/latex": [
       "$\n",
       "\\text{Statevector = }\n",
       "\\begin{bmatrix}\n",
       "\\frac{\\sqrt{2}}{2} & \\frac{\\sqrt{2}}{2}  \\\\\n",
       " \\end{bmatrix}\n",
       " = \\displaystyle|+\\rangle = \\frac{|0\\rangle + |1\\rangle}{\\sqrt{2}}$"
      ],
      "text/plain": [
       "<IPython.core.display.Latex object>"
      ]
     },
     "metadata": {},
     "output_type": "display_data"
    }
   ],
   "source": [
    "display(Markdown(\"## Circuit 3: H Gate (Hadamard Gate)\"))\n",
    "qc=QuantumCircuit(1)\n",
    "qc.h(0)\n",
    "stateVecIn=Statevector([1, 0])\n",
    "stateVecOut=stateVecIn.evolve(qc)\n",
    "hp.display_info(qc,stateVecIn, \"|0\\\\rangle\", stateVecOut, \"|+\\\\rangle = \\\\frac{|0\\\\rangle + |1\\\\rangle}{\\sqrt{2}}\")\n"
   ]
  },
  {
   "cell_type": "code",
   "execution_count": 17,
   "metadata": {},
   "outputs": [
    {
     "data": {
      "text/markdown": [
       "## Circuit 4: R<sub>z</sub>(π/2) Gate (Rotation on Z)"
      ],
      "text/plain": [
       "<IPython.core.display.Markdown object>"
      ]
     },
     "metadata": {},
     "output_type": "display_data"
    },
    {
     "data": {
      "text/markdown": [
       "### Layout"
      ],
      "text/plain": [
       "<IPython.core.display.Markdown object>"
      ]
     },
     "metadata": {},
     "output_type": "display_data"
    },
    {
     "data": {
      "image/png": "[encoded data removed]",
      "text/plain": [
       "<Figure size 185.453x117.056 with 1 Axes>"
      ]
     },
     "metadata": {},
     "output_type": "display_data"
    },
    {
     "data": {
      "text/markdown": [
       "### Unitary Matrix"
      ],
      "text/plain": [
       "<IPython.core.display.Markdown object>"
      ]
     },
     "metadata": {},
     "output_type": "display_data"
    },
    {
     "data": {
      "text/latex": [
       "$\\begin{bmatrix}\n",
       "\\frac{\\sqrt{2}}{2} - \\frac{\\sqrt{2} i}{2} & 0  \\\\\n",
       " 0 & \\frac{\\sqrt{2}}{2} + \\frac{\\sqrt{2} i}{2}  \\\\\n",
       " \\end{bmatrix}$"
      ],
      "text/plain": [
       "<IPython.core.display.Latex object>"
      ]
     },
     "metadata": {},
     "output_type": "display_data"
    },
    {
     "data": {
      "text/markdown": [
       "### Input Statevector"
      ],
      "text/plain": [
       "<IPython.core.display.Markdown object>"
      ]
     },
     "metadata": {},
     "output_type": "display_data"
    },
    {
     "data": {
      "text/latex": [
       "$\n",
       "\\text{Statevector = }\n",
       "\\begin{bmatrix}\n",
       "\\frac{\\sqrt{2}}{2} & \\frac{\\sqrt{2}}{2}  \\\\\n",
       " \\end{bmatrix}\n",
       " = \\displaystyle\\frac{|0\\rangle + |1\\rangle}{\\sqrt{2}}$"
      ],
      "text/plain": [
       "<IPython.core.display.Latex object>"
      ]
     },
     "metadata": {},
     "output_type": "display_data"
    },
    {
     "data": {
      "text/markdown": [
       "### Output Statevector"
      ],
      "text/plain": [
       "<IPython.core.display.Markdown object>"
      ]
     },
     "metadata": {},
     "output_type": "display_data"
    },
    {
     "data": {
      "text/latex": [
       "$\n",
       "\\text{Statevector = }\n",
       "\\begin{bmatrix}\n",
       "\\frac{1}{2} - \\frac{i}{2} & \\frac{1}{2} + \\frac{i}{2}  \\\\\n",
       " \\end{bmatrix}\n",
       " = \\displaystyle\\frac{1}{2} \\pm \\frac{i}{2}$"
      ],
      "text/plain": [
       "<IPython.core.display.Latex object>"
      ]
     },
     "metadata": {},
     "output_type": "display_data"
    }
   ],
   "source": [
    "display(Markdown(\"## Circuit 4: R<sub>z</sub>(π/2) Gate (Rotation on Z)\"))\n",
    "qc=QuantumCircuit(1)\n",
    "qc.rz(np.pi / 2, 0)\n",
    "stateVecIn=Statevector([1/np.sqrt(2), 1/np.sqrt(2)])\n",
    "stateVecOut=stateVecIn.evolve(qc)\n",
    "hp.display_info(qc,stateVecIn, \"\\\\frac{|0\\\\rangle + |1\\\\rangle}{\\sqrt{2}}\", stateVecOut, \"\\\\frac{1}{2} \\pm \\\\frac{i}{2}\")"
   ]
  },
  {
   "cell_type": "code",
   "execution_count": 18,
   "metadata": {},
   "outputs": [
    {
     "data": {
      "text/markdown": [
       "## Circuit 5: CNOT Gate"
      ],
      "text/plain": [
       "<IPython.core.display.Markdown object>"
      ]
     },
     "metadata": {},
     "output_type": "display_data"
    },
    {
     "data": {
      "text/markdown": [
       "### Layout"
      ],
      "text/plain": [
       "<IPython.core.display.Markdown object>"
      ]
     },
     "metadata": {},
     "output_type": "display_data"
    },
    {
     "data": {
      "image/png": "[encoded data removed]",
      "text/plain": [
       "<Figure size 203.683x200.667 with 1 Axes>"
      ]
     },
     "metadata": {},
     "output_type": "display_data"
    },
    {
     "data": {
      "text/markdown": [
       "### Unitary Matrix"
      ],
      "text/plain": [
       "<IPython.core.display.Markdown object>"
      ]
     },
     "metadata": {},
     "output_type": "display_data"
    },
    {
     "data": {
      "text/latex": [
       "$\\begin{bmatrix}\n",
       "1 & 0 & 0 & 0  \\\\\n",
       " 0 & 0 & 0 & 1  \\\\\n",
       " 0 & 0 & 1 & 0  \\\\\n",
       " 0 & 1 & 0 & 0  \\\\\n",
       " \\end{bmatrix}$"
      ],
      "text/plain": [
       "<IPython.core.display.Latex object>"
      ]
     },
     "metadata": {},
     "output_type": "display_data"
    },
    {
     "data": {
      "text/markdown": [
       "### Input Statevector"
      ],
      "text/plain": [
       "<IPython.core.display.Markdown object>"
      ]
     },
     "metadata": {},
     "output_type": "display_data"
    },
    {
     "data": {
      "text/latex": [
       "$\n",
       "\\text{Statevector = }\n",
       "\\begin{bmatrix}\n",
       "\\frac{\\sqrt{3}}{3} & 0 & \\frac{\\sqrt{3} i}{3} & \\frac{\\sqrt{3}}{3}  \\\\\n",
       " \\end{bmatrix}\n",
       " = \\displaystyle\\frac{|00\\rangle + j|10\\rangle + |11\\rangle}{\\sqrt{3}}$"
      ],
      "text/plain": [
       "<IPython.core.display.Latex object>"
      ]
     },
     "metadata": {},
     "output_type": "display_data"
    },
    {
     "data": {
      "text/markdown": [
       "### Output Statevector"
      ],
      "text/plain": [
       "<IPython.core.display.Markdown object>"
      ]
     },
     "metadata": {},
     "output_type": "display_data"
    },
    {
     "data": {
      "text/latex": [
       "$\n",
       "\\text{Statevector = }\n",
       "\\begin{bmatrix}\n",
       "\\frac{\\sqrt{3}}{3} & \\frac{\\sqrt{3}}{3} & \\frac{\\sqrt{3} i}{3} & 0  \\\\\n",
       " \\end{bmatrix}\n",
       " = \\displaystyle\\frac{|00\\rangle + |01\\rangle + j|10\\rangle}{\\sqrt{3}}$"
      ],
      "text/plain": [
       "<IPython.core.display.Latex object>"
      ]
     },
     "metadata": {},
     "output_type": "display_data"
    }
   ],
   "source": [
    "display(Markdown(\"## Circuit 5: CNOT Gate\"))\n",
    "qc=QuantumCircuit(2)\n",
    "qc.cx(0,1)\n",
    "stateVecIn=Statevector([1/np.sqrt(3), 0, 1j/np.sqrt(3), 1/np.sqrt(3)])\n",
    "stateVecOut=stateVecIn.evolve(qc)\n",
    "hp.display_info(qc,stateVecIn, \"\\\\frac{|00\\\\rangle + j|10\\\\rangle + |11\\\\rangle}{\\sqrt{3}}\", stateVecOut, \"\\\\frac{|00\\\\rangle + |01\\\\rangle + j|10\\\\rangle}{\\sqrt{3}}\")"
   ]
  },
  {
   "cell_type": "code",
   "execution_count": 19,
   "metadata": {},
   "outputs": [
    {
     "data": {
      "text/markdown": [
       "## Circuit 6: CNOT Gate with inverted inputs (Theory like)"
      ],
      "text/plain": [
       "<IPython.core.display.Markdown object>"
      ]
     },
     "metadata": {},
     "output_type": "display_data"
    },
    {
     "data": {
      "text/markdown": [
       "### Layout"
      ],
      "text/plain": [
       "<IPython.core.display.Markdown object>"
      ]
     },
     "metadata": {},
     "output_type": "display_data"
    },
    {
     "data": {
      "image/png": "[encoded data removed]",
      "text/plain": [
       "<Figure size 203.683x200.667 with 1 Axes>"
      ]
     },
     "metadata": {},
     "output_type": "display_data"
    },
    {
     "data": {
      "text/markdown": [
       "### Unitary Matrix"
      ],
      "text/plain": [
       "<IPython.core.display.Markdown object>"
      ]
     },
     "metadata": {},
     "output_type": "display_data"
    },
    {
     "data": {
      "text/latex": [
       "$\\begin{bmatrix}\n",
       "1 & 0 & 0 & 0  \\\\\n",
       " 0 & 1 & 0 & 0  \\\\\n",
       " 0 & 0 & 0 & 1  \\\\\n",
       " 0 & 0 & 1 & 0  \\\\\n",
       " \\end{bmatrix}$"
      ],
      "text/plain": [
       "<IPython.core.display.Latex object>"
      ]
     },
     "metadata": {},
     "output_type": "display_data"
    },
    {
     "data": {
      "text/markdown": [
       "### Input Statevector"
      ],
      "text/plain": [
       "<IPython.core.display.Markdown object>"
      ]
     },
     "metadata": {},
     "output_type": "display_data"
    },
    {
     "data": {
      "text/latex": [
       "$\n",
       "\\text{Statevector = }\n",
       "\\begin{bmatrix}\n",
       "\\frac{\\sqrt{3}}{3} & 0 & \\frac{\\sqrt{3} i}{3} & \\frac{\\sqrt{3}}{3}  \\\\\n",
       " \\end{bmatrix}\n",
       " = \\displaystyle\\frac{|00\\rangle + j|10\\rangle + |11\\rangle}{\\sqrt{3}}$"
      ],
      "text/plain": [
       "<IPython.core.display.Latex object>"
      ]
     },
     "metadata": {},
     "output_type": "display_data"
    },
    {
     "data": {
      "text/markdown": [
       "### Output Statevector"
      ],
      "text/plain": [
       "<IPython.core.display.Markdown object>"
      ]
     },
     "metadata": {},
     "output_type": "display_data"
    },
    {
     "data": {
      "text/latex": [
       "$\n",
       "\\text{Statevector = }\n",
       "\\begin{bmatrix}\n",
       "\\frac{\\sqrt{3}}{3} & 0 & \\frac{\\sqrt{3}}{3} & \\frac{\\sqrt{3} i}{3}  \\\\\n",
       " \\end{bmatrix}\n",
       " = \\displaystyle\\frac{|00\\rangle + |10\\rangle + j|11\\rangle}{\\sqrt{3}}$"
      ],
      "text/plain": [
       "<IPython.core.display.Latex object>"
      ]
     },
     "metadata": {},
     "output_type": "display_data"
    }
   ],
   "source": [
    "display(Markdown(\"## Circuit 6: CNOT Gate with inverted inputs (Theory like)\"))\n",
    "qc=QuantumCircuit(2)\n",
    "qc.cx(1,0)\n",
    "stateVecIn=Statevector([1/np.sqrt(3), 0, 1j/np.sqrt(3), 1/np.sqrt(3)])\n",
    "stateVecOut=stateVecIn.evolve(qc)\n",
    "hp.display_info(qc,stateVecIn, \"\\\\frac{|00\\\\rangle + j|10\\\\rangle + |11\\\\rangle}{\\sqrt{3}}\", stateVecOut, \"\\\\frac{|00\\\\rangle + |10\\\\rangle + j|11\\\\rangle}{\\sqrt{3}}\")"
   ]
  },
  {
   "cell_type": "code",
   "execution_count": 20,
   "metadata": {},
   "outputs": [
    {
     "data": {
      "text/markdown": [
       "## Circuit 7: CZ Gate (Controlled-Z)"
      ],
      "text/plain": [
       "<IPython.core.display.Markdown object>"
      ]
     },
     "metadata": {},
     "output_type": "display_data"
    },
    {
     "data": {
      "text/markdown": [
       "### Layout"
      ],
      "text/plain": [
       "<IPython.core.display.Markdown object>"
      ]
     },
     "metadata": {},
     "output_type": "display_data"
    },
    {
     "data": {
      "image/png": "[encoded data removed]",
      "text/plain": [
       "<Figure size 203.683x200.667 with 1 Axes>"
      ]
     },
     "metadata": {},
     "output_type": "display_data"
    },
    {
     "data": {
      "text/markdown": [
       "### Unitary Matrix"
      ],
      "text/plain": [
       "<IPython.core.display.Markdown object>"
      ]
     },
     "metadata": {},
     "output_type": "display_data"
    },
    {
     "data": {
      "text/latex": [
       "$\\begin{bmatrix}\n",
       "1 & 0 & 0 & 0  \\\\\n",
       " 0 & 1 & 0 & 0  \\\\\n",
       " 0 & 0 & 1 & 0  \\\\\n",
       " 0 & 0 & 0 & -1  \\\\\n",
       " \\end{bmatrix}$"
      ],
      "text/plain": [
       "<IPython.core.display.Latex object>"
      ]
     },
     "metadata": {},
     "output_type": "display_data"
    },
    {
     "data": {
      "text/markdown": [
       "### Input Statevector"
      ],
      "text/plain": [
       "<IPython.core.display.Markdown object>"
      ]
     },
     "metadata": {},
     "output_type": "display_data"
    },
    {
     "data": {
      "text/latex": [
       "$\n",
       "\\text{Statevector = }\n",
       "\\begin{bmatrix}\n",
       "\\frac{1}{2} & - \\frac{1}{2} & \\frac{1}{2} & - \\frac{1}{2}  \\\\\n",
       " \\end{bmatrix}\n",
       " = \\displaystyle|+-\\rangle$"
      ],
      "text/plain": [
       "<IPython.core.display.Latex object>"
      ]
     },
     "metadata": {},
     "output_type": "display_data"
    },
    {
     "data": {
      "text/markdown": [
       "### Output Statevector"
      ],
      "text/plain": [
       "<IPython.core.display.Markdown object>"
      ]
     },
     "metadata": {},
     "output_type": "display_data"
    },
    {
     "data": {
      "text/latex": [
       "$\n",
       "\\text{Statevector = }\n",
       "\\begin{bmatrix}\n",
       "\\frac{1}{2} & - \\frac{1}{2} & \\frac{1}{2} & \\frac{1}{2}  \\\\\n",
       " \\end{bmatrix}\n",
       " = \\displaystyle\\frac{|00\\rangle - |01\\rangle + |10\\rangle + |11\\rangle}{2}$"
      ],
      "text/plain": [
       "<IPython.core.display.Latex object>"
      ]
     },
     "metadata": {},
     "output_type": "display_data"
    }
   ],
   "source": [
    "display(Markdown(\"## Circuit 7: CZ Gate (Controlled-Z)\"))\n",
    "qc=QuantumCircuit(2)\n",
    "qc.cz(0,1)\n",
    "stateVecIn=Statevector.from_label('+-')\n",
    "stateVecOut=stateVecIn.evolve(qc)\n",
    "hp.display_info(qc,stateVecIn, \"|+-\\\\rangle\", stateVecOut, \"\\\\frac{|00\\\\rangle - |01\\\\rangle + |10\\\\rangle + |11\\\\rangle}{2}\")"
   ]
  },
  {
   "cell_type": "code",
   "execution_count": 21,
   "metadata": {},
   "outputs": [
    {
     "data": {
      "text/markdown": [
       "## Circuit 8: Swap Gate"
      ],
      "text/plain": [
       "<IPython.core.display.Markdown object>"
      ]
     },
     "metadata": {},
     "output_type": "display_data"
    },
    {
     "data": {
      "text/markdown": [
       "### Layout"
      ],
      "text/plain": [
       "<IPython.core.display.Markdown object>"
      ]
     },
     "metadata": {},
     "output_type": "display_data"
    },
    {
     "data": {
      "image/png": "[encoded data removed]",
      "text/plain": [
       "<Figure size 203.683x200.667 with 1 Axes>"
      ]
     },
     "metadata": {},
     "output_type": "display_data"
    },
    {
     "data": {
      "text/markdown": [
       "### Unitary Matrix"
      ],
      "text/plain": [
       "<IPython.core.display.Markdown object>"
      ]
     },
     "metadata": {},
     "output_type": "display_data"
    },
    {
     "data": {
      "text/latex": [
       "$\\begin{bmatrix}\n",
       "1 & 0 & 0 & 0  \\\\\n",
       " 0 & 0 & 1 & 0  \\\\\n",
       " 0 & 1 & 0 & 0  \\\\\n",
       " 0 & 0 & 0 & 1  \\\\\n",
       " \\end{bmatrix}$"
      ],
      "text/plain": [
       "<IPython.core.display.Latex object>"
      ]
     },
     "metadata": {},
     "output_type": "display_data"
    },
    {
     "data": {
      "text/markdown": [
       "### Input Statevector"
      ],
      "text/plain": [
       "<IPython.core.display.Markdown object>"
      ]
     },
     "metadata": {},
     "output_type": "display_data"
    },
    {
     "data": {
      "text/latex": [
       "$\n",
       "\\text{Statevector = }\n",
       "\\begin{bmatrix}\n",
       "\\frac{\\sqrt{3}}{3} & 0 & \\frac{\\sqrt{3} i}{3} & \\frac{\\sqrt{3}}{3}  \\\\\n",
       " \\end{bmatrix}\n",
       " = \\displaystyle\\frac{|00\\rangle + j|10\\rangle + |11\\rangle}{\\sqrt{3}}$"
      ],
      "text/plain": [
       "<IPython.core.display.Latex object>"
      ]
     },
     "metadata": {},
     "output_type": "display_data"
    },
    {
     "data": {
      "text/markdown": [
       "### Output Statevector"
      ],
      "text/plain": [
       "<IPython.core.display.Markdown object>"
      ]
     },
     "metadata": {},
     "output_type": "display_data"
    },
    {
     "data": {
      "text/latex": [
       "$\n",
       "\\text{Statevector = }\n",
       "\\begin{bmatrix}\n",
       "\\frac{\\sqrt{3}}{3} & \\frac{\\sqrt{3} i}{3} & 0 & \\frac{\\sqrt{3}}{3}  \\\\\n",
       " \\end{bmatrix}\n",
       " = \\displaystyle\\frac{|00\\rangle + j|01\\rangle + |11\\rangle}{\\sqrt{3}}$"
      ],
      "text/plain": [
       "<IPython.core.display.Latex object>"
      ]
     },
     "metadata": {},
     "output_type": "display_data"
    }
   ],
   "source": [
    "display(Markdown(\"## Circuit 8: Swap Gate\"))\n",
    "qc=QuantumCircuit(2)\n",
    "qc.swap(0,1)\n",
    "stateVecIn=Statevector([1/np.sqrt(3), 0, 1j/np.sqrt(3), 1/np.sqrt(3)])\n",
    "stateVecOut=stateVecIn.evolve(qc)\n",
    "hp.display_info(qc,stateVecIn, \"\\\\frac{|00\\\\rangle + j|10\\\\rangle + |11\\\\rangle}{\\sqrt{3}}\", stateVecOut, \"\\\\frac{|00\\\\rangle + j|01\\\\rangle + |11\\\\rangle}{\\sqrt{3}}\")"
   ]
  }
 ],
 "metadata": {
  "kernelspec": {
   "display_name": "base",
   "language": "python",
   "name": "python3"
  },
  "language_info": {
   "codemirror_mode": {
    "name": "ipython",
    "version": 3
   },
   "file_extension": ".py",
   "mimetype": "text/x-python",
   "name": "python",
   "nbconvert_exporter": "python",
   "pygments_lexer": "ipython3",
   "version": "3.11.5"
  }
 },
 "nbformat": 4,
 "nbformat_minor": 2
}
