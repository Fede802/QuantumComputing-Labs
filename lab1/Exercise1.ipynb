{
 "cells": [
  {
   "cell_type": "code",
   "execution_count": 37,
   "metadata": {},
   "outputs": [],
   "source": [
    "import os\n",
    "import sys\n",
    "sys.path.insert(0, os.path.abspath('../utils'))\n",
    "import Helpers as hp\n",
    "import qiskit\n",
    "from qiskit import QuantumCircuit\n",
    "from qiskit.circuit.library import UnitaryGate\n",
    "from qiskit.quantum_info import Statevector # to compute state vectors\n",
    "from qiskit.visualization import array_to_latex\n",
    "import numpy as np\n",
    "from IPython.display import display, Markdown, Latex\n",
    "import sympy as sp"
   ]
  },
  {
   "cell_type": "markdown",
   "metadata": {},
   "source": [
    "# Exercise 1\n",
    "\n",
    "![Ex1](res/ex1.png)"
   ]
  },
  {
   "cell_type": "code",
   "execution_count": 38,
   "metadata": {},
   "outputs": [
    {
     "data": {
      "image/png": "[encoded data removed]",
      "text/plain": [
       "<Figure size 1040x284.278 with 1 Axes>"
      ]
     },
     "metadata": {},
     "output_type": "display_data"
    },
    {
     "data": {
      "text/latex": [
       "\n",
       "\\begin{array}{c c c | c}\n",
       "\\textbf{Input} & & & \\textbf{Output State} \\\\\n",
       "q_2 & q_1 & q_0 & \\ket{\\psi} \\\\\n",
       "\\hline\n",
       "0 & 0 & 0 & [1 0 0 0 0 0 0 0] = |000\\rangle \\\\\n",
       "0 & 0 & 1 & [0 1 0 0 0 0 0 0] = |001\\rangle \\\\\n",
       "0 & 1 & 0 & [0 0 1 0 0 0 0 0] = |010\\rangle \\\\\n",
       "0 & 1 & 1 & [0 0 0 0 0 0 0 1] = |111\\rangle \\\\\n",
       "1 & 0 & 0 & [0 0 0 0 1 0 0 0] = |100\\rangle \\\\\n",
       "1 & 0 & 1 & [0 0 0 0 0 1 0 0] = |101\\rangle \\\\\n",
       "1 & 1 & 0 & [0 0 0 0 0 0 1 0] = |110\\rangle \\\\\n",
       "1 & 1 & 1 & [0 0 0 1 0 0 0 0] = |011\\rangle \\\\\n",
       "\\end{array}\n"
      ],
      "text/plain": [
       "<IPython.core.display.Latex object>"
      ]
     },
     "metadata": {},
     "output_type": "display_data"
    }
   ],
   "source": [
    "def out_state(osv, ost):\n",
    "  return \"[\"+array_to_latex(osv).data.replace(\"\\\\begin{bmatrix}\", \"\").replace(\"\\\\end{bmatrix}\", \"\").replace(\" & \", \" \")[2:][:-7].strip()+\"] = |\"+ost+\"\\\\rangle\"\n",
    "\n",
    "qc = QuantumCircuit(3)\n",
    "qc.h(2)\n",
    "qc.cx(1, 2)\n",
    "qc.t(2).inverse()\n",
    "qc.cx(0, 2)\n",
    "qc.t(2)\n",
    "qc.cx(1, 2)\n",
    "qc.t(2).inverse()\n",
    "qc.t(1)\n",
    "qc.cx(0, 2)\n",
    "qc.t(2)\n",
    "qc.cx(0, 1)\n",
    "qc.h(2)\n",
    "qc.t(1).inverse()\n",
    "qc.t(0)\n",
    "qc.cx(0, 1)\n",
    "display(qc.draw(output='mpl'))\n",
    "display(Latex(rf\"\"\"\n",
    "\\begin{{array}}{{c c c | c}}\n",
    "\\textbf{{Input}} & & & \\textbf{{Output State}} \\\\\n",
    "q_2 & q_1 & q_0 & \\ket{{\\psi}} \\\\\n",
    "\\hline\n",
    "0 & 0 & 0 & {out_state(Statevector.from_label('000').evolve(qc), \"000\")} \\\\\n",
    "0 & 0 & 1 & {out_state(Statevector.from_label('001').evolve(qc), \"001\")} \\\\\n",
    "0 & 1 & 0 & {out_state(Statevector.from_label('010').evolve(qc), \"010\")} \\\\\n",
    "0 & 1 & 1 & {out_state(Statevector.from_label('011').evolve(qc), \"111\")} \\\\\n",
    "1 & 0 & 0 & {out_state(Statevector.from_label('100').evolve(qc), \"100\")} \\\\\n",
    "1 & 0 & 1 & {out_state(Statevector.from_label('101').evolve(qc), \"101\")} \\\\\n",
    "1 & 1 & 0 & {out_state(Statevector.from_label('110').evolve(qc), \"110\")} \\\\\n",
    "1 & 1 & 1 & {out_state(Statevector.from_label('111').evolve(qc), \"011\")} \\\\\n",
    "\\end{{array}}\n",
    "\"\"\"))"
   ]
  },
  {
   "cell_type": "markdown",
   "metadata": {},
   "source": [
    "# Exercise 2\n",
    "![Ex2](res/ex2.png)"
   ]
  },
  {
   "cell_type": "markdown",
   "metadata": {},
   "source": [
    "<!-- \\\\begin{array}{c c c | c}\n",
    "    \\\\text{Input } \\\\ket{q_2 q_1 q_0} & & & & \\\\text{Output State} \\\\\\\\\n",
    "    q_2 & q_1 & q_0 & \\\\ket{\\\\psi} \\\\\\\\\n",
    "    \\\\hline\n",
    "    0 & 0 & 0 &  \\\\\\\\\n",
    "    0 & 0 & 1 &  \\\\\\\\\n",
    "    0 & 1 & 0 &  \\\\\\\\\n",
    "    0 & 1 & 1 &  \\\\\\\\\n",
    "    1 & 0 & 0 &  \\\\\\\\\n",
    "    1 & 0 & 1 &  \\\\\\\\\n",
    "    1 & 1 & 0 &  \\\\\\\\\n",
    "    1 & 1 & 1 &  \\\\\\\\\n",
    "\\\\end{array} -->\n",
    "\n"
   ]
  },
  {
   "cell_type": "code",
   "execution_count": 39,
   "metadata": {},
   "outputs": [
    {
     "data": {
      "text/latex": [
       "$$\n",
       "\n",
       "\\begin{bmatrix}\n",
       "1 & 0 & 0 & 0  \\\\\n",
       " 0 & 0 & 1 & 0  \\\\\n",
       " 0 & 1 & 0 & 0  \\\\\n",
       " 0 & 0 & 0 & 1  \\\\\n",
       " \\end{bmatrix}\n",
       "$$"
      ],
      "text/plain": [
       "<IPython.core.display.Latex object>"
      ]
     },
     "metadata": {},
     "output_type": "display_data"
    },
    {
     "data": {
      "image/png": "[encoded data removed]",
      "text/plain": [
       "<Figure size 203.683x200.667 with 1 Axes>"
      ]
     },
     "metadata": {},
     "output_type": "display_data"
    },
    {
     "data": {
      "text/latex": [
       "$$\n",
       "\n",
       "\\begin{bmatrix}\n",
       "1 & 0 & 0 & 0  \\\\\n",
       " 0 & 0 & 1 & 0  \\\\\n",
       " 0 & 1 & 0 & 0  \\\\\n",
       " 0 & 0 & 0 & 1  \\\\\n",
       " \\end{bmatrix}\n",
       "$$"
      ],
      "text/plain": [
       "<IPython.core.display.Latex object>"
      ]
     },
     "metadata": {},
     "output_type": "display_data"
    },
    {
     "data": {
      "image/png": "[encoded data removed]",
      "text/plain": [
       "<Figure size 370.906x200.667 with 1 Axes>"
      ]
     },
     "metadata": {},
     "output_type": "display_data"
    }
   ],
   "source": [
    "qc = QuantumCircuit(2)\n",
    "qc.swap(0, 1)\n",
    "display(hp.derive_unitary_matrix(qc))\n",
    "display(qc.draw(output='mpl'))\n",
    "\n",
    "qc = QuantumCircuit(2)\n",
    "qc.cx(0, 1)\n",
    "qc.cx(1, 0)\n",
    "qc.cx(0, 1)\n",
    "display(hp.derive_unitary_matrix(qc))\n",
    "display(qc.draw(output='mpl'))"
   ]
  },
  {
   "cell_type": "code",
   "execution_count": 40,
   "metadata": {},
   "outputs": [
    {
     "data": {
      "text/latex": [
       "$$\n",
       "\n",
       "\\begin{bmatrix}\n",
       "1 & 0 & 0 & 0  \\\\\n",
       " 0 & 1 & 0 & 0  \\\\\n",
       " 0 & 0 & 1 & 0  \\\\\n",
       " 0 & 0 & 0 & -1  \\\\\n",
       " \\end{bmatrix}\n",
       "$$"
      ],
      "text/plain": [
       "<IPython.core.display.Latex object>"
      ]
     },
     "metadata": {},
     "output_type": "display_data"
    },
    {
     "data": {
      "image/png": "[encoded data removed]",
      "text/plain": [
       "<Figure size 203.683x200.667 with 1 Axes>"
      ]
     },
     "metadata": {},
     "output_type": "display_data"
    },
    {
     "data": {
      "text/latex": [
       "$$\n",
       "\n",
       "\\begin{bmatrix}\n",
       "1 & 0 & 0 & 0  \\\\\n",
       " 0 & 1 & 0 & 0  \\\\\n",
       " 0 & 0 & 1 & 0  \\\\\n",
       " 0 & 0 & 0 & -1  \\\\\n",
       " \\end{bmatrix}\n",
       "$$"
      ],
      "text/plain": [
       "<IPython.core.display.Latex object>"
      ]
     },
     "metadata": {},
     "output_type": "display_data"
    },
    {
     "data": {
      "image/png": "[encoded data removed]",
      "text/plain": [
       "<Figure size 370.906x200.667 with 1 Axes>"
      ]
     },
     "metadata": {},
     "output_type": "display_data"
    }
   ],
   "source": [
    "qc = QuantumCircuit(2)\n",
    "qc.cz(0, 1)\n",
    "display(hp.derive_unitary_matrix(qc))\n",
    "display(qc.draw(output='mpl'))\n",
    "\n",
    "qc = QuantumCircuit(2)\n",
    "qc.h(1)\n",
    "qc.cx(0, 1)\n",
    "qc.h(1)\n",
    "display(hp.derive_unitary_matrix(qc))\n",
    "display(qc.draw(output='mpl'))"
   ]
  },
  {
   "cell_type": "code",
   "execution_count": 41,
   "metadata": {},
   "outputs": [
    {
     "data": {
      "text/latex": [
       "$$\n",
       "\n",
       "\\begin{bmatrix}\n",
       "1 & 0 & 0 & 0  \\\\\n",
       " 0 & 1 & 0 & 0  \\\\\n",
       " 0 & 0 & 0 & 1  \\\\\n",
       " 0 & 0 & 1 & 0  \\\\\n",
       " \\end{bmatrix}\n",
       "$$"
      ],
      "text/plain": [
       "<IPython.core.display.Latex object>"
      ]
     },
     "metadata": {},
     "output_type": "display_data"
    },
    {
     "data": {
      "image/png": "[encoded data removed]",
      "text/plain": [
       "<Figure size 203.683x200.667 with 1 Axes>"
      ]
     },
     "metadata": {},
     "output_type": "display_data"
    },
    {
     "data": {
      "text/latex": [
       "$$\n",
       "\n",
       "\\begin{bmatrix}\n",
       "1 & 0 & 0 & 0  \\\\\n",
       " 0 & 1 & 0 & 0  \\\\\n",
       " 0 & 0 & 0 & 1  \\\\\n",
       " 0 & 0 & 1 & 0  \\\\\n",
       " \\end{bmatrix}\n",
       "$$"
      ],
      "text/plain": [
       "<IPython.core.display.Latex object>"
      ]
     },
     "metadata": {},
     "output_type": "display_data"
    },
    {
     "data": {
      "image/png": "[encoded data removed]",
      "text/plain": [
       "<Figure size 370.906x200.667 with 1 Axes>"
      ]
     },
     "metadata": {},
     "output_type": "display_data"
    }
   ],
   "source": [
    "qc = QuantumCircuit(2)\n",
    "qc.cx(1, 0)\n",
    "display(hp.derive_unitary_matrix(qc))\n",
    "display(qc.draw(output='mpl'))\n",
    "\n",
    "qc = QuantumCircuit(2)\n",
    "qc.h(0)\n",
    "qc.h(1)\n",
    "qc.cx(0, 1)\n",
    "qc.h(0)\n",
    "qc.h(1)\n",
    "display(hp.derive_unitary_matrix(qc))\n",
    "display(qc.draw(output='mpl'))"
   ]
  },
  {
   "cell_type": "code",
   "execution_count": 42,
   "metadata": {},
   "outputs": [
    {
     "data": {
      "text/latex": [
       "$$\n",
       "\n",
       "\\begin{bmatrix}\n",
       "1 & 0 & 0 & 0  \\\\\n",
       " 0 & \\frac{\\sqrt{2}}{2} & 0 & \\frac{\\sqrt{2}}{2}  \\\\\n",
       " 0 & 0 & 1 & 0  \\\\\n",
       " 0 & \\frac{\\sqrt{2}}{2} & 0 & - \\frac{\\sqrt{2}}{2}  \\\\\n",
       " \\end{bmatrix}\n",
       "$$"
      ],
      "text/plain": [
       "<IPython.core.display.Latex object>"
      ]
     },
     "metadata": {},
     "output_type": "display_data"
    },
    {
     "data": {
      "image/png": "[encoded data removed]",
      "text/plain": [
       "<Figure size 203.683x200.667 with 1 Axes>"
      ]
     },
     "metadata": {},
     "output_type": "display_data"
    },
    {
     "data": {
      "text/latex": [
       "$$\n",
       "\n",
       "\\begin{bmatrix}\n",
       "1 & 0 & 0 & 0  \\\\\n",
       " 0 & \\frac{\\sqrt{2}}{2} & 0 & \\frac{\\sqrt{2}}{2}  \\\\\n",
       " 0 & 0 & 1 & 0  \\\\\n",
       " 0 & \\frac{\\sqrt{2}}{2} & 0 & - \\frac{\\sqrt{2}}{2}  \\\\\n",
       " \\end{bmatrix}\n",
       "$$"
      ],
      "text/plain": [
       "<IPython.core.display.Latex object>"
      ]
     },
     "metadata": {},
     "output_type": "display_data"
    },
    {
     "data": {
      "image/png": "[encoded data removed]",
      "text/plain": [
       "<Figure size 370.906x200.667 with 1 Axes>"
      ]
     },
     "metadata": {},
     "output_type": "display_data"
    }
   ],
   "source": [
    "qc = QuantumCircuit(2)\n",
    "qc.ch(0, 1)\n",
    "display(hp.derive_unitary_matrix(qc))\n",
    "display(qc.draw(output='mpl'))\n",
    "\n",
    "qc = QuantumCircuit(2)\n",
    "qc.ry(np.pi/4, 1)\n",
    "qc.cx(0, 1)\n",
    "qc.ry(-np.pi/4, 1)\n",
    "display(hp.derive_unitary_matrix(qc))\n",
    "display(qc.draw(output='mpl'))"
   ]
  },
  {
   "cell_type": "code",
   "execution_count": 43,
   "metadata": {},
   "outputs": [
    {
     "data": {
      "text/latex": [
       "$$\n",
       "\n",
       "\\begin{bmatrix}\n",
       "1 & 0 & 0 & 0  \\\\\n",
       " 0 & 0 & 0 & -1  \\\\\n",
       " 0 & 0 & -1 & 0  \\\\\n",
       " 0 & 1 & 0 & 0  \\\\\n",
       " \\end{bmatrix}\n",
       "$$"
      ],
      "text/plain": [
       "<IPython.core.display.Latex object>"
      ]
     },
     "metadata": {},
     "output_type": "display_data"
    },
    {
     "data": {
      "image/png": "[encoded data removed]",
      "text/plain": [
       "<Figure size 287.294x200.667 with 1 Axes>"
      ]
     },
     "metadata": {},
     "output_type": "display_data"
    },
    {
     "data": {
      "text/latex": [
       "$$\n",
       "\n",
       "\\begin{bmatrix}\n",
       "1 & 0 & 0 & 0  \\\\\n",
       " 0 & 0 & 0 & -1  \\\\\n",
       " 0 & 0 & -1 & 0  \\\\\n",
       " 0 & 1 & 0 & 0  \\\\\n",
       " \\end{bmatrix}\n",
       "$$"
      ],
      "text/plain": [
       "<IPython.core.display.Latex object>"
      ]
     },
     "metadata": {},
     "output_type": "display_data"
    },
    {
     "data": {
      "image/png": "[encoded data removed]",
      "text/plain": [
       "<Figure size 287.294x200.667 with 1 Axes>"
      ]
     },
     "metadata": {},
     "output_type": "display_data"
    }
   ],
   "source": [
    "qc = QuantumCircuit(2)\n",
    "qc.z(1)\n",
    "qc.cx(0, 1)\n",
    "display(hp.derive_unitary_matrix(qc))\n",
    "display(qc.draw(output='mpl'))\n",
    "\n",
    "qc = QuantumCircuit(2)\n",
    "qc.cx(0, 1)\n",
    "qc.z(0)\n",
    "qc.z(1)\n",
    "display(hp.derive_unitary_matrix(qc))\n",
    "display(qc.draw(output='mpl'))"
   ]
  },
  {
   "cell_type": "code",
   "execution_count": 44,
   "metadata": {},
   "outputs": [
    {
     "data": {
      "text/latex": [
       "$$\n",
       "\n",
       "\\begin{bmatrix}\n",
       "1 & 0 & 0 & 0  \\\\\n",
       " 0 & 0 & 0 & -1  \\\\\n",
       " 0 & 0 & 1 & 0  \\\\\n",
       " 0 & -1 & 0 & 0  \\\\\n",
       " \\end{bmatrix}\n",
       "$$"
      ],
      "text/plain": [
       "<IPython.core.display.Latex object>"
      ]
     },
     "metadata": {},
     "output_type": "display_data"
    },
    {
     "data": {
      "image/png": "[encoded data removed]",
      "text/plain": [
       "<Figure size 287.294x200.667 with 1 Axes>"
      ]
     },
     "metadata": {},
     "output_type": "display_data"
    },
    {
     "data": {
      "text/latex": [
       "$$\n",
       "\n",
       "\\begin{bmatrix}\n",
       "1 & 0 & 0 & 0  \\\\\n",
       " 0 & 0 & 0 & -1  \\\\\n",
       " 0 & 0 & 1 & 0  \\\\\n",
       " 0 & -1 & 0 & 0  \\\\\n",
       " \\end{bmatrix}\n",
       "$$"
      ],
      "text/plain": [
       "<IPython.core.display.Latex object>"
      ]
     },
     "metadata": {},
     "output_type": "display_data"
    },
    {
     "data": {
      "image/png": "[encoded data removed]",
      "text/plain": [
       "<Figure size 287.294x200.667 with 1 Axes>"
      ]
     },
     "metadata": {},
     "output_type": "display_data"
    }
   ],
   "source": [
    "qc = QuantumCircuit(2)\n",
    "qc.z(0)\n",
    "qc.cx(0, 1)\n",
    "display(hp.derive_unitary_matrix(qc))\n",
    "display(qc.draw(output='mpl'))\n",
    "\n",
    "qc = QuantumCircuit(2)\n",
    "qc.cx(0, 1)\n",
    "qc.z(0)\n",
    "display(hp.derive_unitary_matrix(qc))\n",
    "display(qc.draw(output='mpl'))"
   ]
  },
  {
   "cell_type": "code",
   "execution_count": 45,
   "metadata": {},
   "outputs": [
    {
     "data": {
      "text/latex": [
       "$$\n",
       "\n",
       "\\begin{bmatrix}\n",
       "0 & 1 & 0 & 0  \\\\\n",
       " 0 & 0 & 1 & 0  \\\\\n",
       " 0 & 0 & 0 & 1  \\\\\n",
       " 1 & 0 & 0 & 0  \\\\\n",
       " \\end{bmatrix}\n",
       "$$"
      ],
      "text/plain": [
       "<IPython.core.display.Latex object>"
      ]
     },
     "metadata": {},
     "output_type": "display_data"
    },
    {
     "data": {
      "image/png": "[encoded data removed]",
      "text/plain": [
       "<Figure size 287.294x200.667 with 1 Axes>"
      ]
     },
     "metadata": {},
     "output_type": "display_data"
    },
    {
     "data": {
      "text/latex": [
       "$$\n",
       "\n",
       "\\begin{bmatrix}\n",
       "0 & 1 & 0 & 0  \\\\\n",
       " 0 & 0 & 1 & 0  \\\\\n",
       " 0 & 0 & 0 & 1  \\\\\n",
       " 1 & 0 & 0 & 0  \\\\\n",
       " \\end{bmatrix}\n",
       "$$"
      ],
      "text/plain": [
       "<IPython.core.display.Latex object>"
      ]
     },
     "metadata": {},
     "output_type": "display_data"
    },
    {
     "data": {
      "image/png": "[encoded data removed]",
      "text/plain": [
       "<Figure size 287.294x200.667 with 1 Axes>"
      ]
     },
     "metadata": {},
     "output_type": "display_data"
    }
   ],
   "source": [
    "qc = QuantumCircuit(2)\n",
    "qc.x(0)\n",
    "qc.cx(0, 1)\n",
    "display(hp.derive_unitary_matrix(qc))\n",
    "display(qc.draw(output='mpl'))\n",
    "\n",
    "qc = QuantumCircuit(2)\n",
    "qc.cx(0, 1)\n",
    "qc.x(0)\n",
    "qc.x(1)\n",
    "display(hp.derive_unitary_matrix(qc))\n",
    "display(qc.draw(output='mpl'))"
   ]
  },
  {
   "cell_type": "code",
   "execution_count": 46,
   "metadata": {},
   "outputs": [
    {
     "data": {
      "text/latex": [
       "$$\n",
       "\n",
       "\\begin{bmatrix}\n",
       "0 & 0 & 1 & 0  \\\\\n",
       " 0 & 1 & 0 & 0  \\\\\n",
       " 1 & 0 & 0 & 0  \\\\\n",
       " 0 & 0 & 0 & 1  \\\\\n",
       " \\end{bmatrix}\n",
       "$$"
      ],
      "text/plain": [
       "<IPython.core.display.Latex object>"
      ]
     },
     "metadata": {},
     "output_type": "display_data"
    },
    {
     "data": {
      "image/png": "[encoded data removed]",
      "text/plain": [
       "<Figure size 287.294x200.667 with 1 Axes>"
      ]
     },
     "metadata": {},
     "output_type": "display_data"
    },
    {
     "data": {
      "text/latex": [
       "$$\n",
       "\n",
       "\\begin{bmatrix}\n",
       "0 & 0 & 1 & 0  \\\\\n",
       " 0 & 1 & 0 & 0  \\\\\n",
       " 1 & 0 & 0 & 0  \\\\\n",
       " 0 & 0 & 0 & 1  \\\\\n",
       " \\end{bmatrix}\n",
       "$$"
      ],
      "text/plain": [
       "<IPython.core.display.Latex object>"
      ]
     },
     "metadata": {},
     "output_type": "display_data"
    },
    {
     "data": {
      "image/png": "[encoded data removed]",
      "text/plain": [
       "<Figure size 287.294x200.667 with 1 Axes>"
      ]
     },
     "metadata": {},
     "output_type": "display_data"
    }
   ],
   "source": [
    "qc = QuantumCircuit(2)\n",
    "qc.x(1)\n",
    "qc.cx(0, 1)\n",
    "display(hp.derive_unitary_matrix(qc))\n",
    "display(qc.draw(output='mpl'))\n",
    "\n",
    "qc = QuantumCircuit(2)\n",
    "qc.cx(0, 1)\n",
    "qc.x(1)\n",
    "display(hp.derive_unitary_matrix(qc))\n",
    "display(qc.draw(output='mpl'))"
   ]
  },
  {
   "cell_type": "markdown",
   "metadata": {},
   "source": [
    "# Exercise 3\n",
    "\n",
    "![Ex3a](res/ex3a.png)"
   ]
  },
  {
   "cell_type": "code",
   "execution_count": 47,
   "metadata": {},
   "outputs": [
    {
     "data": {
      "text/markdown": [
       "### Layout"
      ],
      "text/plain": [
       "<IPython.core.display.Markdown object>"
      ]
     },
     "metadata": {},
     "output_type": "display_data"
    },
    {
     "data": {
      "image/png": "[encoded data removed]",
      "text/plain": [
       "<Figure size 287.294x200.667 with 1 Axes>"
      ]
     },
     "metadata": {},
     "output_type": "display_data"
    },
    {
     "data": {
      "text/markdown": [
       "### Unitary Matrix"
      ],
      "text/plain": [
       "<IPython.core.display.Markdown object>"
      ]
     },
     "metadata": {},
     "output_type": "display_data"
    },
    {
     "data": {
      "text/latex": [
       "$\\begin{bmatrix}\n",
       "\\frac{\\sqrt{2}}{2} & \\frac{\\sqrt{2}}{2} & 0 & 0  \\\\\n",
       " 0 & 0 & \\frac{\\sqrt{2}}{2} & - \\frac{\\sqrt{2}}{2}  \\\\\n",
       " 0 & 0 & \\frac{\\sqrt{2}}{2} & \\frac{\\sqrt{2}}{2}  \\\\\n",
       " \\frac{\\sqrt{2}}{2} & - \\frac{\\sqrt{2}}{2} & 0 & 0  \\\\\n",
       " \\end{bmatrix}$"
      ],
      "text/plain": [
       "<IPython.core.display.Latex object>"
      ]
     },
     "metadata": {},
     "output_type": "display_data"
    },
    {
     "data": {
      "text/markdown": [
       "### Input Statevector"
      ],
      "text/plain": [
       "<IPython.core.display.Markdown object>"
      ]
     },
     "metadata": {},
     "output_type": "display_data"
    },
    {
     "data": {
      "text/latex": [
       "$\n",
       "\\text{Statevector = }\n",
       "\\begin{bmatrix}\n",
       "1 & 0 & 0 & 0  \\\\\n",
       " \\end{bmatrix}\n",
       " = \\displaystyle|00\\rangle$"
      ],
      "text/plain": [
       "<IPython.core.display.Latex object>"
      ]
     },
     "metadata": {},
     "output_type": "display_data"
    },
    {
     "data": {
      "text/markdown": [
       "### Output Statevector"
      ],
      "text/plain": [
       "<IPython.core.display.Markdown object>"
      ]
     },
     "metadata": {},
     "output_type": "display_data"
    },
    {
     "data": {
      "text/latex": [
       "$\n",
       "\\text{Statevector = }\n",
       "\\begin{bmatrix}\n",
       "\\frac{\\sqrt{2}}{2} & 0 & 0 & \\frac{\\sqrt{2}}{2}  \\\\\n",
       " \\end{bmatrix}\n",
       " = \\displaystyle|\\Phi^{+}\\rangle = \\frac{|00\\rangle + |11\\rangle}{\\sqrt{2}}$"
      ],
      "text/plain": [
       "<IPython.core.display.Latex object>"
      ]
     },
     "metadata": {},
     "output_type": "display_data"
    }
   ],
   "source": [
    "qc = QuantumCircuit(2)\n",
    "qc.h(0)\n",
    "qc.cx(0, 1)\n",
    "stateVecIn=Statevector.from_label('00')\n",
    "stateVecOut=stateVecIn.evolve(qc)\n",
    "hp.display_info(qc,stateVecIn, \"|00\\\\rangle\", stateVecOut, \"|\\\\Phi^{+}\\\\rangle = \\\\frac{|00\\\\rangle + |11\\\\rangle}{\\\\sqrt{2}}\")"
   ]
  },
  {
   "cell_type": "markdown",
   "metadata": {},
   "source": [
    "![Ex3b](res/ex3b.png)"
   ]
  },
  {
   "cell_type": "code",
   "execution_count": 48,
   "metadata": {},
   "outputs": [
    {
     "data": {
      "text/markdown": [
       "### Input Statevector"
      ],
      "text/plain": [
       "<IPython.core.display.Markdown object>"
      ]
     },
     "metadata": {},
     "output_type": "display_data"
    },
    {
     "data": {
      "text/latex": [
       "$\n",
       "\\text{Statevector = }\n",
       "\\begin{bmatrix}\n",
       "0 & 1 & 0 & 0  \\\\\n",
       " \\end{bmatrix}\n",
       " = \\displaystyle|01\\rangle$"
      ],
      "text/plain": [
       "<IPython.core.display.Latex object>"
      ]
     },
     "metadata": {},
     "output_type": "display_data"
    },
    {
     "data": {
      "text/markdown": [
       "### Output Statevector"
      ],
      "text/plain": [
       "<IPython.core.display.Markdown object>"
      ]
     },
     "metadata": {},
     "output_type": "display_data"
    },
    {
     "data": {
      "text/latex": [
       "$\n",
       "\\text{Statevector = }\n",
       "\\begin{bmatrix}\n",
       "\\frac{\\sqrt{2}}{2} & 0 & 0 & - \\frac{\\sqrt{2}}{2}  \\\\\n",
       " \\end{bmatrix}\n",
       " = \\displaystyle|\\Phi^{-}\\rangle = \\frac{|00\\rangle - |11\\rangle}{\\sqrt{2}}$"
      ],
      "text/plain": [
       "<IPython.core.display.Latex object>"
      ]
     },
     "metadata": {},
     "output_type": "display_data"
    },
    {
     "data": {
      "text/markdown": [
       "### Input Statevector"
      ],
      "text/plain": [
       "<IPython.core.display.Markdown object>"
      ]
     },
     "metadata": {},
     "output_type": "display_data"
    },
    {
     "data": {
      "text/latex": [
       "$\n",
       "\\text{Statevector = }\n",
       "\\begin{bmatrix}\n",
       "0 & 0 & 1 & 0  \\\\\n",
       " \\end{bmatrix}\n",
       " = \\displaystyle|10\\rangle$"
      ],
      "text/plain": [
       "<IPython.core.display.Latex object>"
      ]
     },
     "metadata": {},
     "output_type": "display_data"
    },
    {
     "data": {
      "text/markdown": [
       "### Output Statevector"
      ],
      "text/plain": [
       "<IPython.core.display.Markdown object>"
      ]
     },
     "metadata": {},
     "output_type": "display_data"
    },
    {
     "data": {
      "text/latex": [
       "$\n",
       "\\text{Statevector = }\n",
       "\\begin{bmatrix}\n",
       "0 & \\frac{\\sqrt{2}}{2} & \\frac{\\sqrt{2}}{2} & 0  \\\\\n",
       " \\end{bmatrix}\n",
       " = \\displaystyle|\\Psi^{+}\\rangle = \\frac{|01\\rangle + |10\\rangle}{\\sqrt{2}}$"
      ],
      "text/plain": [
       "<IPython.core.display.Latex object>"
      ]
     },
     "metadata": {},
     "output_type": "display_data"
    },
    {
     "data": {
      "text/markdown": [
       "### Input Statevector"
      ],
      "text/plain": [
       "<IPython.core.display.Markdown object>"
      ]
     },
     "metadata": {},
     "output_type": "display_data"
    },
    {
     "data": {
      "text/latex": [
       "$\n",
       "\\text{Statevector = }\n",
       "\\begin{bmatrix}\n",
       "0 & 0 & 0 & 1  \\\\\n",
       " \\end{bmatrix}\n",
       " = \\displaystyle|11\\rangle$"
      ],
      "text/plain": [
       "<IPython.core.display.Latex object>"
      ]
     },
     "metadata": {},
     "output_type": "display_data"
    },
    {
     "data": {
      "text/markdown": [
       "### Output Statevector"
      ],
      "text/plain": [
       "<IPython.core.display.Markdown object>"
      ]
     },
     "metadata": {},
     "output_type": "display_data"
    },
    {
     "data": {
      "text/latex": [
       "$\n",
       "\\text{Statevector = }\n",
       "\\begin{bmatrix}\n",
       "0 & - \\frac{\\sqrt{2}}{2} & \\frac{\\sqrt{2}}{2} & 0  \\\\\n",
       " \\end{bmatrix}\n",
       " = \\displaystyle-|\\Psi^{-}\\rangle = -\\frac{|01\\rangle - |10\\rangle}{\\sqrt{2}}$"
      ],
      "text/plain": [
       "<IPython.core.display.Latex object>"
      ]
     },
     "metadata": {},
     "output_type": "display_data"
    }
   ],
   "source": [
    "stateVecIn=Statevector.from_label('01')\n",
    "stateVecOut=stateVecIn.evolve(qc)\n",
    "hp.display_io_info(stateVecIn, \"|01\\\\rangle\", stateVecOut, \"|\\\\Phi^{-}\\\\rangle = \\\\frac{|00\\\\rangle - |11\\\\rangle}{\\\\sqrt{2}}\")\n",
    "stateVecIn=Statevector.from_label('10')\n",
    "stateVecOut=stateVecIn.evolve(qc)\n",
    "hp.display_io_info(stateVecIn, \"|10\\\\rangle\", stateVecOut, \"|\\\\Psi^{+}\\\\rangle = \\\\frac{|01\\\\rangle + |10\\\\rangle}{\\\\sqrt{2}}\")\n",
    "stateVecIn=Statevector.from_label('11')\n",
    "stateVecOut=stateVecIn.evolve(qc)\n",
    "hp.display_io_info(stateVecIn, \"|11\\\\rangle\", stateVecOut, \"-|\\\\Psi^{-}\\\\rangle = -\\\\frac{|01\\\\rangle - |10\\\\rangle}{\\\\sqrt{2}}\")"
   ]
  },
  {
   "cell_type": "markdown",
   "metadata": {},
   "source": [
    ">NOTE: Since Qiskit convention is different the result are quite different, using\n",
    "><br>\n",
    ">qc.h(1)\n",
    "><br>\n",
    ">qc.cx(1, 0)\n",
    "><br>\n",
    ">produce the same result as theory"
   ]
  },
  {
   "cell_type": "markdown",
   "metadata": {},
   "source": [
    "![Ex3c](res/ex3c.png)"
   ]
  },
  {
   "cell_type": "code",
   "execution_count": 49,
   "metadata": {},
   "outputs": [
    {
     "data": {
      "text/markdown": [
       "### Layout"
      ],
      "text/plain": [
       "<IPython.core.display.Markdown object>"
      ]
     },
     "metadata": {},
     "output_type": "display_data"
    },
    {
     "data": {
      "image/png": "[encoded data removed]",
      "text/plain": [
       "<Figure size 371.107x284.278 with 1 Axes>"
      ]
     },
     "metadata": {},
     "output_type": "display_data"
    },
    {
     "data": {
      "text/markdown": [
       "### Unitary Matrix"
      ],
      "text/plain": [
       "<IPython.core.display.Markdown object>"
      ]
     },
     "metadata": {},
     "output_type": "display_data"
    },
    {
     "data": {
      "text/latex": [
       "$\\begin{bmatrix}\n",
       "\\frac{\\sqrt{2}}{2} & \\frac{\\sqrt{2}}{2} & 0 & 0 & 0 & 0 & 0 & 0  \\\\\n",
       " 0 & 0 & 0 & 0 & 0 & 0 & \\frac{\\sqrt{2}}{2} & - \\frac{\\sqrt{2}}{2}  \\\\\n",
       " 0 & 0 & \\frac{\\sqrt{2}}{2} & \\frac{\\sqrt{2}}{2} & 0 & 0 & 0 & 0  \\\\\n",
       " 0 & 0 & 0 & 0 & \\frac{\\sqrt{2}}{2} & - \\frac{\\sqrt{2}}{2} & 0 & 0  \\\\\n",
       " 0 & 0 & 0 & 0 & \\frac{\\sqrt{2}}{2} & \\frac{\\sqrt{2}}{2} & 0 & 0  \\\\\n",
       " 0 & 0 & \\frac{\\sqrt{2}}{2} & - \\frac{\\sqrt{2}}{2} & 0 & 0 & 0 & 0  \\\\\n",
       " 0 & 0 & 0 & 0 & 0 & 0 & \\frac{\\sqrt{2}}{2} & \\frac{\\sqrt{2}}{2}  \\\\\n",
       " \\frac{\\sqrt{2}}{2} & - \\frac{\\sqrt{2}}{2} & 0 & 0 & 0 & 0 & 0 & 0  \\\\\n",
       " \\end{bmatrix}$"
      ],
      "text/plain": [
       "<IPython.core.display.Latex object>"
      ]
     },
     "metadata": {},
     "output_type": "display_data"
    },
    {
     "data": {
      "text/markdown": [
       "### Input Statevector"
      ],
      "text/plain": [
       "<IPython.core.display.Markdown object>"
      ]
     },
     "metadata": {},
     "output_type": "display_data"
    },
    {
     "data": {
      "text/latex": [
       "$\n",
       "\\text{Statevector = }\n",
       "\\begin{bmatrix}\n",
       "1 & 0 & 0 & 0 & 0 & 0 & 0 & 0  \\\\\n",
       " \\end{bmatrix}\n",
       " = \\displaystyle|000\\rangle$"
      ],
      "text/plain": [
       "<IPython.core.display.Latex object>"
      ]
     },
     "metadata": {},
     "output_type": "display_data"
    },
    {
     "data": {
      "text/markdown": [
       "### Output Statevector"
      ],
      "text/plain": [
       "<IPython.core.display.Markdown object>"
      ]
     },
     "metadata": {},
     "output_type": "display_data"
    },
    {
     "data": {
      "text/latex": [
       "$\n",
       "\\text{Statevector = }\n",
       "\\begin{bmatrix}\n",
       "\\frac{\\sqrt{2}}{2} & 0 & 0 & 0 & 0 & 0 & 0 & \\frac{\\sqrt{2}}{2}  \\\\\n",
       " \\end{bmatrix}\n",
       " = \\displaystyle\\frac{|000\\rangle + |111\\rangle}{\\sqrt{2}}$"
      ],
      "text/plain": [
       "<IPython.core.display.Latex object>"
      ]
     },
     "metadata": {},
     "output_type": "display_data"
    }
   ],
   "source": [
    "qc = QuantumCircuit(3)\n",
    "qc.h(0)\n",
    "qc.cx(0, 1)\n",
    "qc.cx(0, 2)\n",
    "stateVecIn=Statevector.from_label('000')\n",
    "stateVecOut=stateVecIn.evolve(qc)\n",
    "hp.display_info(qc,stateVecIn, \"|000\\\\rangle\", stateVecOut, \"\\\\frac{|000\\\\rangle + |111\\\\rangle}{\\\\sqrt{2}}\")"
   ]
  },
  {
   "cell_type": "markdown",
   "metadata": {},
   "source": [
    "![Ex3d](res/ex3d.png)"
   ]
  },
  {
   "cell_type": "code",
   "execution_count": 50,
   "metadata": {},
   "outputs": [
    {
     "data": {
      "image/png": "[encoded data removed]",
      "text/plain": [
       "<Figure size 185.453x117.056 with 1 Axes>"
      ]
     },
     "metadata": {},
     "output_type": "display_data"
    },
    {
     "data": {
      "text/latex": [
       "$$\n",
       "\n",
       "\\begin{bmatrix}\n",
       "\\frac{\\sqrt{3}}{3} & - \\frac{\\sqrt{6}}{3}  \\\\\n",
       " \\frac{\\sqrt{6}}{3} & \\frac{\\sqrt{3}}{3}  \\\\\n",
       " \\end{bmatrix}\n",
       "$$"
      ],
      "text/plain": [
       "<IPython.core.display.Latex object>"
      ]
     },
     "metadata": {},
     "output_type": "display_data"
    },
    {
     "data": {
      "text/latex": [
       "$$\n",
       "\n",
       "\\begin{bmatrix}\n",
       "\\frac{\\sqrt{3}}{3} & - \\frac{\\sqrt{6}}{3}  \\\\\n",
       " \\frac{\\sqrt{6}}{3} & \\frac{\\sqrt{3}}{3}  \\\\\n",
       " \\end{bmatrix}\n",
       "$$"
      ],
      "text/plain": [
       "<IPython.core.display.Latex object>"
      ]
     },
     "metadata": {},
     "output_type": "display_data"
    }
   ],
   "source": [
    "qc = QuantumCircuit(1)\n",
    "rU = np.array([[1/np.sqrt(3), -np.sqrt(2/3)], [np.sqrt(2/3), 1/np.sqrt(3)]])\n",
    "custom_gate = UnitaryGate(rU, label=\"R\")\n",
    "qc.append(custom_gate, [0])\n",
    "display(qc.draw(output='mpl'))\n",
    "display(hp.derive_unitary_matrix(qc))\n",
    "qc = QuantumCircuit(1)\n",
    "qc.ry(2*np.arccos(1/np.sqrt(3)), 0)\n",
    "display(hp.derive_unitary_matrix(qc))\n"
   ]
  },
  {
   "cell_type": "code",
   "execution_count": 51,
   "metadata": {},
   "outputs": [
    {
     "data": {
      "text/markdown": [
       "### Layout"
      ],
      "text/plain": [
       "<IPython.core.display.Markdown object>"
      ]
     },
     "metadata": {},
     "output_type": "display_data"
    },
    {
     "data": {
      "image/png": "[encoded data removed]",
      "text/plain": [
       "<Figure size 538.33x284.278 with 1 Axes>"
      ]
     },
     "metadata": {},
     "output_type": "display_data"
    },
    {
     "data": {
      "text/markdown": [
       "### Unitary Matrix"
      ],
      "text/plain": [
       "<IPython.core.display.Markdown object>"
      ]
     },
     "metadata": {},
     "output_type": "display_data"
    },
    {
     "data": {
      "text/latex": [
       "$\\begin{bmatrix}\n",
       "0 & 0 & 0 & 0 & \\frac{\\sqrt{3}}{3} & \\frac{\\sqrt{6}}{6} & - \\frac{\\sqrt{3}}{3} & - \\frac{\\sqrt{6}}{6}  \\\\\n",
       " \\frac{\\sqrt{3}}{3} & - \\frac{\\sqrt{6}}{3} & 0 & 0 & 0 & 0 & 0 & 0  \\\\\n",
       " \\frac{\\sqrt{3}}{3} & \\frac{\\sqrt{6}}{6} & \\frac{\\sqrt{3}}{3} & \\frac{\\sqrt{6}}{6} & 0 & 0 & 0 & 0  \\\\\n",
       " 0 & 0 & 0 & 0 & 0 & 0 & \\frac{\\sqrt{3}}{3} & - \\frac{\\sqrt{6}}{3}  \\\\\n",
       " \\frac{\\sqrt{3}}{3} & \\frac{\\sqrt{6}}{6} & - \\frac{\\sqrt{3}}{3} & - \\frac{\\sqrt{6}}{6} & 0 & 0 & 0 & 0  \\\\\n",
       " 0 & 0 & 0 & 0 & \\frac{\\sqrt{3}}{3} & - \\frac{\\sqrt{6}}{3} & 0 & 0  \\\\\n",
       " 0 & 0 & 0 & 0 & \\frac{\\sqrt{3}}{3} & \\frac{\\sqrt{6}}{6} & \\frac{\\sqrt{3}}{3} & \\frac{\\sqrt{6}}{6}  \\\\\n",
       " 0 & 0 & \\frac{\\sqrt{3}}{3} & - \\frac{\\sqrt{6}}{3} & 0 & 0 & 0 & 0  \\\\\n",
       " \\end{bmatrix}$"
      ],
      "text/plain": [
       "<IPython.core.display.Latex object>"
      ]
     },
     "metadata": {},
     "output_type": "display_data"
    },
    {
     "data": {
      "text/markdown": [
       "### Input Statevector"
      ],
      "text/plain": [
       "<IPython.core.display.Markdown object>"
      ]
     },
     "metadata": {},
     "output_type": "display_data"
    },
    {
     "data": {
      "text/latex": [
       "$\n",
       "\\text{Statevector = }\n",
       "\\begin{bmatrix}\n",
       "1 & 0 & 0 & 0 & 0 & 0 & 0 & 0  \\\\\n",
       " \\end{bmatrix}\n",
       " = \\displaystyle|000\\rangle$"
      ],
      "text/plain": [
       "<IPython.core.display.Latex object>"
      ]
     },
     "metadata": {},
     "output_type": "display_data"
    },
    {
     "data": {
      "text/markdown": [
       "### Output Statevector"
      ],
      "text/plain": [
       "<IPython.core.display.Markdown object>"
      ]
     },
     "metadata": {},
     "output_type": "display_data"
    },
    {
     "data": {
      "text/latex": [
       "$\n",
       "\\text{Statevector = }\n",
       "\\begin{bmatrix}\n",
       "0 & \\frac{\\sqrt{3}}{3} & \\frac{\\sqrt{3}}{3} & 0 & \\frac{\\sqrt{3}}{3} & 0 & 0 & 0  \\\\\n",
       " \\end{bmatrix}\n",
       " = \\displaystyle\\frac{|001\\rangle + |010\\rangle + |100\\rangle}{\\sqrt{3}}$"
      ],
      "text/plain": [
       "<IPython.core.display.Latex object>"
      ]
     },
     "metadata": {},
     "output_type": "display_data"
    }
   ],
   "source": [
    "qc = QuantumCircuit(3)\n",
    "qc.ry(2*np.arccos(1/np.sqrt(3)), 0)\n",
    "qc.ch(0, 1)\n",
    "qc.cx(1, 2)\n",
    "qc.cx(0, 1)\n",
    "qc.x(0)\n",
    "stateVecIn=Statevector.from_label('000')\n",
    "stateVecOut=stateVecIn.evolve(qc)\n",
    "hp.display_info(qc,stateVecIn, \"|000\\\\rangle\", stateVecOut, \"\\\\frac{|001\\\\rangle + |010\\\\rangle + |100\\\\rangle}{\\\\sqrt{3}}\")"
   ]
  },
  {
   "cell_type": "markdown",
   "metadata": {},
   "source": [
    "# Exercise 4\n",
    "![Ex4](res/ex4a.png)\n",
    "\n",
    "$$\n",
    "R_z(\\Phi)R_x(\\Theta)|0\\rangle \n",
    "= \n",
    "\\begin{bmatrix}\n",
    "e^{-j\\Phi/2} & 0\\\\\n",
    "0 & e^{j\\Phi/2}\n",
    "\\end{bmatrix}\n",
    "\\begin{bmatrix}\n",
    "cos(\\Theta/2) & -jsin(\\Theta/2)\\\\\n",
    "-jsin(\\Theta/2) & cos(\\Theta/2)\n",
    "\\end{bmatrix}\n",
    "\\begin{bmatrix}\n",
    "1\\\\\n",
    "0\n",
    "\\end{bmatrix} \\\\[8pt]\n",
    "=\n",
    "\\begin{bmatrix}\n",
    "e^{-j\\Phi/2} & 0\\\\\n",
    "0 & e^{j\\Phi/2}\n",
    "\\end{bmatrix}\n",
    "\\begin{bmatrix}\n",
    "cos(\\Theta/2)\\\\\n",
    "-jsin(\\Theta/2)\n",
    "\\end{bmatrix}\n",
    "=\n",
    "\\begin{bmatrix}\n",
    "cos(\\Theta/2) e^{-j\\Phi/2} \\\\\n",
    "-jsin(\\Theta/2) e^{j\\Phi/2}\n",
    "\\end{bmatrix}\n",
    "=\n",
    "e^{-j\\Phi/2}\n",
    "\\begin{bmatrix}\n",
    "cos(\\Theta/2) \\\\\n",
    "-jsin(\\Theta/2) e^{j\\Phi}\n",
    "\\end{bmatrix}\n",
    "=\n",
    "e^{-j\\Phi/2}[cos(\\Theta/2) |0 \\rangle -jsin(\\Theta/2) e^{j\\Phi} |1 \\rangle]\n",
    "$$"
   ]
  },
  {
   "cell_type": "code",
   "execution_count": 55,
   "metadata": {},
   "outputs": [
    {
     "data": {
      "text/markdown": [
       "### Layout"
      ],
      "text/plain": [
       "<IPython.core.display.Markdown object>"
      ]
     },
     "metadata": {},
     "output_type": "display_data"
    },
    {
     "data": {
      "image/png": "[encoded data removed]",
      "text/plain": [
       "<Figure size 269.064x117.056 with 1 Axes>"
      ]
     },
     "metadata": {},
     "output_type": "display_data"
    },
    {
     "data": {
      "text/markdown": [
       "### Unitary Matrix"
      ],
      "text/plain": [
       "<IPython.core.display.Markdown object>"
      ]
     },
     "metadata": {},
     "output_type": "display_data"
    },
    {
     "data": {
      "text/latex": [
       "$\\begin{bmatrix}\n",
       "0.2070552361 - 0.772740661 i & -0.5795554958 - 0.1552914271 i  \\\\\n",
       " 0.5795554958 - 0.1552914271 i & 0.2070552361 + 0.772740661 i  \\\\\n",
       " \\end{bmatrix}$"
      ],
      "text/plain": [
       "<IPython.core.display.Latex object>"
      ]
     },
     "metadata": {},
     "output_type": "display_data"
    },
    {
     "data": {
      "text/markdown": [
       "### Input Statevector"
      ],
      "text/plain": [
       "<IPython.core.display.Markdown object>"
      ]
     },
     "metadata": {},
     "output_type": "display_data"
    },
    {
     "data": {
      "text/latex": [
       "$\n",
       "\\text{Statevector = }\n",
       "\\begin{bmatrix}\n",
       "1 & 0  \\\\\n",
       " \\end{bmatrix}\n",
       " = \\displaystyle|0 \\rangle$"
      ],
      "text/plain": [
       "<IPython.core.display.Latex object>"
      ]
     },
     "metadata": {},
     "output_type": "display_data"
    },
    {
     "data": {
      "text/markdown": [
       "### Output Statevector with global phase"
      ],
      "text/plain": [
       "<IPython.core.display.Markdown object>"
      ]
     },
     "metadata": {},
     "output_type": "display_data"
    },
    {
     "data": {
      "text/latex": [
       "$\n",
       "\\text{Statevector = }\n",
       "\\begin{bmatrix}\n",
       "0.2070552361 - 0.772740661 i & 0.5795554958 - 0.1552914271 i  \\\\\n",
       " \\end{bmatrix}\n",
       " = \\displaystyle[0.8 e^{-\\displaystyle\\frac{5\\Pi}{12}}, 0.6 e^{-\\displaystyle\\frac{\\Pi}{12}}]$"
      ],
      "text/plain": [
       "<IPython.core.display.Latex object>"
      ]
     },
     "metadata": {},
     "output_type": "display_data"
    },
    {
     "data": {
      "text/markdown": [
       "### Output Statevector without global phase"
      ],
      "text/plain": [
       "<IPython.core.display.Markdown object>"
      ]
     },
     "metadata": {},
     "output_type": "display_data"
    },
    {
     "data": {
      "text/latex": [
       "$\n",
       "\\text{Statevector = }\n",
       "\\begin{bmatrix}\n",
       "\\frac{4}{5} & 0.3 + 0.5196152423 i  \\\\\n",
       " \\end{bmatrix}\n",
       " = \\displaystyle[0.8, 0.6 e^{\\displaystyle\\frac{\\Pi}{3}} ]$"
      ],
      "text/plain": [
       "<IPython.core.display.Latex object>"
      ]
     },
     "metadata": {},
     "output_type": "display_data"
    }
   ],
   "source": [
    "qc = QuantumCircuit(1)\n",
    "qc.rx(2*np.arccos(0.8),0)\n",
    "qc.rz(5*np.pi/6,0)\n",
    "hp.display_structure(qc)\n",
    "stateVecIn = Statevector.from_label('0')\n",
    "hp.display_state_vector(\"Input Statevector\", stateVecIn, \"|0 \\\\rangle\")\n",
    "stateVecOut = stateVecIn.evolve(qc)\n",
    "hp.display_state_vector(\"Output Statevector with global phase\", stateVecOut, \"[0.8 e^{-\\\\displaystyle\\\\frac{5\\\\Pi}{12}}, 0.6 e^{-\\\\displaystyle\\\\frac{\\\\Pi}{12}}]\")\n",
    "\n",
    "global_phase = np.angle(stateVecOut.data[0])\n",
    "stateVecOut_no_global_phase = stateVecOut / np.exp(1j * global_phase)  # === stateVecOut * np.exp(-1j * global_phase)\n",
    "hp.display_state_vector(\"Output Statevector without global phase\", stateVecOut_no_global_phase, \"[0.8, 0.6 e^{\\\\displaystyle\\\\frac{\\\\Pi}{3}} ]\")\n"
   ]
  },
  {
   "cell_type": "markdown",
   "metadata": {},
   "source": [
    "![Ex4a](res/ex4b.png)"
   ]
  },
  {
   "cell_type": "code",
   "execution_count": null,
   "metadata": {},
   "outputs": [],
   "source": []
  }
 ],
 "metadata": {
  "kernelspec": {
   "display_name": "base",
   "language": "python",
   "name": "python3"
  },
  "language_info": {
   "codemirror_mode": {
    "name": "ipython",
    "version": 3
   },
   "file_extension": ".py",
   "mimetype": "text/x-python",
   "name": "python",
   "nbconvert_exporter": "python",
   "pygments_lexer": "ipython3",
   "version": "3.11.5"
  }
 },
 "nbformat": 4,
 "nbformat_minor": 2
}
