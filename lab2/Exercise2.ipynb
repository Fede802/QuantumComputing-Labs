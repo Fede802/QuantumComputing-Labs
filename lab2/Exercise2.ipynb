{
 "cells": [
  {
   "cell_type": "code",
   "execution_count": 269,
   "metadata": {},
   "outputs": [],
   "source": [
    "import os\n",
    "import sys\n",
    "sys.path.insert(0, os.path.abspath('../utils'))\n",
    "import Helpers as hp\n",
    "import qiskit\n",
    "from qiskit import QuantumCircuit, transpile\n",
    "from qiskit.transpiler import CouplingMap\n",
    "from qiskit.circuit.library import UnitaryGate\n",
    "from qiskit.quantum_info import Statevector # to compute state vectors\n",
    "from qiskit.visualization import array_to_latex\n",
    "from qiskit.providers.fake_provider import GenericBackendV2\n",
    "from qiskit_aer import AerSimulator # ideal simulator backend\n",
    "from qiskit.visualization import plot_histogram  # to plot histograms of simulation results\n",
    "import numpy as np\n",
    "from IPython.display import display, Markdown, Latex\n",
    "import sympy as sp"
   ]
  },
  {
   "cell_type": "markdown",
   "metadata": {},
   "source": [
    "# Exercise 1\n",
    "\n",
    "![Ex1a](res/ex1_a.png)"
   ]
  },
  {
   "cell_type": "code",
   "execution_count": 270,
   "metadata": {},
   "outputs": [],
   "source": [
    "def make_qc1():\n",
    "    qc = QuantumCircuit(1, 1)\n",
    "    qc.rx(2*np.arccos(0.8),0)\n",
    "    qc.rz(5*np.pi/6,0)\n",
    "    return qc\n",
    "\n",
    "def simulate_measure(qc, n_measure, labels=['0'], show = False):\n",
    "    idealSim=AerSimulator()\n",
    "    result=idealSim.run(qc, shots=n_measure).result()\n",
    "\n",
    "    try:\n",
    "        show and display(plot_histogram(result.get_counts()))\n",
    "        res = 0\n",
    "        for label in labels:\n",
    "            res += result.get_counts()[label]\n",
    "        return res\n",
    "    except:\n",
    "        return 0"
   ]
  },
  {
   "cell_type": "code",
   "execution_count": 271,
   "metadata": {},
   "outputs": [
    {
     "data": {
      "text/markdown": [
       "### Layout"
      ],
      "text/plain": [
       "<IPython.core.display.Markdown object>"
      ]
     },
     "metadata": {},
     "output_type": "display_data"
    },
    {
     "data": {
      "image/png": "[encoded data removed]",
      "text/plain": [
       "<Figure size 269.064x200.667 with 1 Axes>"
      ]
     },
     "metadata": {},
     "output_type": "display_data"
    },
    {
     "data": {
      "text/markdown": [
       "### Unitary Matrix"
      ],
      "text/plain": [
       "<IPython.core.display.Markdown object>"
      ]
     },
     "metadata": {},
     "output_type": "display_data"
    },
    {
     "data": {
      "text/latex": [
       "$\\begin{bmatrix}\n",
       "0.2070552361 - 0.772740661 i & -0.5795554958 - 0.1552914271 i  \\\\\n",
       " 0.5795554958 - 0.1552914271 i & 0.2070552361 + 0.772740661 i  \\\\\n",
       " \\end{bmatrix}$"
      ],
      "text/plain": [
       "<IPython.core.display.Latex object>"
      ]
     },
     "metadata": {},
     "output_type": "display_data"
    },
    {
     "data": {
      "text/markdown": [
       "### Input Statevector"
      ],
      "text/plain": [
       "<IPython.core.display.Markdown object>"
      ]
     },
     "metadata": {},
     "output_type": "display_data"
    },
    {
     "data": {
      "text/latex": [
       "$\n",
       "\\text{Statevector = }\n",
       "\\begin{bmatrix}\n",
       "1 & 0  \\\\\n",
       " \\end{bmatrix}\n",
       " = \\displaystyle|0 \\rangle$"
      ],
      "text/plain": [
       "<IPython.core.display.Latex object>"
      ]
     },
     "metadata": {},
     "output_type": "display_data"
    },
    {
     "data": {
      "text/markdown": [
       "### Output Statevector with global phase"
      ],
      "text/plain": [
       "<IPython.core.display.Markdown object>"
      ]
     },
     "metadata": {},
     "output_type": "display_data"
    },
    {
     "data": {
      "text/latex": [
       "$\n",
       "\\text{Statevector = }\n",
       "\\begin{bmatrix}\n",
       "0.2070552361 - 0.772740661 i & 0.5795554958 - 0.1552914271 i  \\\\\n",
       " \\end{bmatrix}\n",
       " = \\displaystyle[0.8 e^{-\\displaystyle\\frac{5\\Pi}{12}}, 0.6 e^{-\\displaystyle\\frac{\\Pi}{12}}]$"
      ],
      "text/plain": [
       "<IPython.core.display.Latex object>"
      ]
     },
     "metadata": {},
     "output_type": "display_data"
    },
    {
     "data": {
      "text/markdown": [
       "### Output Statevector without global phase"
      ],
      "text/plain": [
       "<IPython.core.display.Markdown object>"
      ]
     },
     "metadata": {},
     "output_type": "display_data"
    },
    {
     "data": {
      "text/latex": [
       "$\n",
       "\\text{Statevector = }\n",
       "\\begin{bmatrix}\n",
       "\\frac{4}{5} & 0.3 + 0.5196152423 i  \\\\\n",
       " \\end{bmatrix}\n",
       " = \\displaystyle[0.8, 0.6 e^{\\displaystyle\\frac{\\Pi}{3}} ]$"
      ],
      "text/plain": [
       "<IPython.core.display.Latex object>"
      ]
     },
     "metadata": {},
     "output_type": "display_data"
    }
   ],
   "source": [
    "qc = make_qc1()\n",
    "hp.display_structure(qc)\n",
    "stateVecIn = Statevector.from_label('0')\n",
    "hp.display_state_vector(\"Input Statevector\", stateVecIn, \"|0 \\\\rangle\")\n",
    "stateVecOut = stateVecIn.evolve(qc)\n",
    "hp.display_state_vector(\"Output Statevector with global phase\", stateVecOut, \"[0.8 e^{-\\\\displaystyle\\\\frac{5\\\\Pi}{12}}, 0.6 e^{-\\\\displaystyle\\\\frac{\\\\Pi}{12}}]\")\n",
    "\n",
    "global_phase = np.angle(stateVecOut.data[0])\n",
    "stateVecOut_no_global_phase = stateVecOut / np.exp(1j * global_phase)  # === stateVecOut * np.exp(-1j * global_phase)\n",
    "hp.display_state_vector(\"Output Statevector without global phase\", stateVecOut_no_global_phase, \"[0.8, 0.6 e^{\\\\displaystyle\\\\frac{\\\\Pi}{3}} ]\")"
   ]
  },
  {
   "cell_type": "markdown",
   "metadata": {},
   "source": [
    "![Ex1b](res/ex1_b.png)"
   ]
  },
  {
   "cell_type": "code",
   "execution_count": 272,
   "metadata": {},
   "outputs": [
    {
     "data": {
      "image/png": "[encoded data removed]",
      "text/plain": [
       "<Figure size 352.675x200.667 with 1 Axes>"
      ]
     },
     "metadata": {},
     "output_type": "display_data"
    },
    {
     "data": {
      "text/markdown": [
       "### Expected Alpha: 0.8"
      ],
      "text/plain": [
       "<IPython.core.display.Markdown object>"
      ]
     },
     "metadata": {},
     "output_type": "display_data"
    },
    {
     "data": {
      "text/markdown": [
       "### 10 measurements: 7 alpha: 0.8944271909999159"
      ],
      "text/plain": [
       "<IPython.core.display.Markdown object>"
      ]
     },
     "metadata": {},
     "output_type": "display_data"
    },
    {
     "data": {
      "text/markdown": [
       "### 100 measurements: 64 alpha: 0.7483314773547883"
      ],
      "text/plain": [
       "<IPython.core.display.Markdown object>"
      ]
     },
     "metadata": {},
     "output_type": "display_data"
    },
    {
     "data": {
      "text/markdown": [
       "### 1000 measurements: 642 alpha: 0.806225774829855"
      ],
      "text/plain": [
       "<IPython.core.display.Markdown object>"
      ]
     },
     "metadata": {},
     "output_type": "display_data"
    }
   ],
   "source": [
    "qc_z = make_qc1()\n",
    "qc_z.measure(0,0)\n",
    "display(qc_z.draw(output='mpl'))\n",
    "display(Markdown(\"### Expected Alpha: \" +str(0.8)))\n",
    "display(Markdown(\"### 10 measurements: \" +str(simulate_measure(qc_z, 10)) + \" alpha: \" +str(np.sqrt(simulate_measure(qc_z, 10)/10))))\n",
    "display(Markdown(\"### 100 measurements: \" +str(simulate_measure(qc_z, 100)) + \" alpha: \" +str(np.sqrt(simulate_measure(qc_z, 100)/100))))\n",
    "display(Markdown(\"### 1000 measurements: \" +str(simulate_measure(qc_z, 1000)) + \" alpha: \" +str(np.sqrt(simulate_measure(qc_z, 1000)/1000))))\n"
   ]
  },
  {
   "cell_type": "code",
   "execution_count": 273,
   "metadata": {},
   "outputs": [
    {
     "data": {
      "image/png": "[encoded data removed]",
      "text/plain": [
       "<Figure size 436.286x200.667 with 1 Axes>"
      ]
     },
     "metadata": {},
     "output_type": "display_data"
    },
    {
     "data": {
      "text/markdown": [
       "### Expected BetaRe: 0.30000000000000004"
      ],
      "text/plain": [
       "<IPython.core.display.Markdown object>"
      ]
     },
     "metadata": {},
     "output_type": "display_data"
    },
    {
     "data": {
      "text/markdown": [
       "### 10 measurements: 9 betaRe: 0.37500000000000006 betaRe with z extimate: 0.42426406871192857"
      ],
      "text/plain": [
       "<IPython.core.display.Markdown object>"
      ]
     },
     "metadata": {},
     "output_type": "display_data"
    },
    {
     "data": {
      "text/markdown": [
       "### 100 measurements: 75 betaRe: 0.325 betaRe with z extimate: 0.32756920994133026"
      ],
      "text/plain": [
       "<IPython.core.display.Markdown object>"
      ]
     },
     "metadata": {},
     "output_type": "display_data"
    },
    {
     "data": {
      "text/markdown": [
       "### 1000 measurements: 745 betaRe: 0.3 betaRe with z extimate: 0.29814239699997197"
      ],
      "text/plain": [
       "<IPython.core.display.Markdown object>"
      ]
     },
     "metadata": {},
     "output_type": "display_data"
    }
   ],
   "source": [
    "qc_x = make_qc1()\n",
    "qc_x.h(0)\n",
    "qc_x.measure(0,0)\n",
    "display(qc_x.draw(output='mpl'))\n",
    "display(Markdown(\"### Expected BetaRe: \" +str(0.6*np.cos(np.pi/3))))\n",
    "p0 = simulate_measure(qc_x, 10)/10\n",
    "t = p0 - (1 - p0)\n",
    "display(Markdown(\"### 10 measurements: \" +str(simulate_measure(qc_x, 10)) + \" betaRe: \" +str(t/1.6) + \" betaRe with z extimate: \" +str(t/(2*np.sqrt(simulate_measure(qc_z, 10)/10)))))\n",
    "p0 = simulate_measure(qc_x, 100)/100\n",
    "t = p0 - (1 - p0)\n",
    "display(Markdown(\"### 100 measurements: \" +str(simulate_measure(qc_x, 100)) + \" betaRe: \" +str(t/1.6) + \" betaRe with z extimate: \" +str(t/(2*np.sqrt(simulate_measure(qc_z, 100)/100)))))\n",
    "p0 = simulate_measure(qc_x, 1000)/1000\n",
    "t = p0 - (1 - p0)\n",
    "display(Markdown(\"### 1000 measurements: \" +str(simulate_measure(qc_x, 1000)) + \" betaRe: \" +str(t/1.6) + \" betaRe with z extimate: \" +str(t/(2*np.sqrt(simulate_measure(qc_z, 1000)/1000)))))"
   ]
  },
  {
   "cell_type": "code",
   "execution_count": 274,
   "metadata": {},
   "outputs": [
    {
     "data": {
      "image/png": "[encoded data removed]",
      "text/plain": [
       "<Figure size 519.897x200.667 with 1 Axes>"
      ]
     },
     "metadata": {},
     "output_type": "display_data"
    },
    {
     "data": {
      "text/markdown": [
       "### Expected BetaIm: 0.5196152422706631"
      ],
      "text/plain": [
       "<IPython.core.display.Markdown object>"
      ]
     },
     "metadata": {},
     "output_type": "display_data"
    },
    {
     "data": {
      "text/markdown": [
       "### 10 measurements: 1 betaIm: 0.5 betaIm with z extimate: 0.447213595499958"
      ],
      "text/plain": [
       "<IPython.core.display.Markdown object>"
      ]
     },
     "metadata": {},
     "output_type": "display_data"
    },
    {
     "data": {
      "text/markdown": [
       "### 100 measurements: 7 betaIm: 0.5499999999999999 betaIm with z extimate: 0.5543478937468665"
      ],
      "text/plain": [
       "<IPython.core.display.Markdown object>"
      ]
     },
     "metadata": {},
     "output_type": "display_data"
    },
    {
     "data": {
      "text/markdown": [
       "### 1000 measurements: 93 betaIm: 0.54625 betaIm with z extimate: 0.5424492193966519"
      ],
      "text/plain": [
       "<IPython.core.display.Markdown object>"
      ]
     },
     "metadata": {},
     "output_type": "display_data"
    }
   ],
   "source": [
    "qc_y = make_qc1()\n",
    "qc_y.s(0)\n",
    "qc_y.h(0)\n",
    "qc_y.measure(0,0)\n",
    "display(qc_y.draw(output='mpl'))\n",
    "display(Markdown(\"### Expected BetaIm: \" +str(0.6*np.sin(np.pi/3))))\n",
    "p0 = simulate_measure(qc_y, 10)/10\n",
    "t = (1 - p0) - p0\n",
    "display(Markdown(\"### 10 measurements: \" +str(simulate_measure(qc_y, 10)) + \" betaIm: \" +str(t/1.6) + \" betaIm with z extimate: \" +str(t/(2*np.sqrt(simulate_measure(qc_z, 10)/10)))))\n",
    "p0 = simulate_measure(qc_y, 100)/100\n",
    "t = (1 - p0) - p0\n",
    "display(Markdown(\"### 100 measurements: \" +str(simulate_measure(qc_y, 100)) + \" betaIm: \" +str(t/1.6) + \" betaIm with z extimate: \" +str(t/(2*np.sqrt(simulate_measure(qc_z, 100)/100)))))\n",
    "p0 = simulate_measure(qc_y, 1000)/1000\n",
    "t = (1 - p0) - p0\n",
    "display(Markdown(\"### 1000 measurements: \" +str(simulate_measure(qc_y, 1000)) + \" betaIm: \" +str(t/1.6) + \" betaIm with z extimate: \" +str(t/(2*np.sqrt(simulate_measure(qc_z, 1000)/1000))))) "
   ]
  },
  {
   "cell_type": "code",
   "execution_count": 275,
   "metadata": {},
   "outputs": [],
   "source": [
    "# qc = QuantumCircuit(3, 3)\n",
    "# qc.rx(2*np.arccos(0.8),0)\n",
    "# qc.rz(5*np.pi/6,0)\n",
    "# qc.cx(0,1)\n",
    "# qc.cx(0,2)\n",
    "# qc.h(1)\n",
    "# qc.s(2)\n",
    "# qc.h(2)\n",
    "# qc.measure([0, 1, 2], [0, 1, 2])\n",
    "# display(qc.draw(output='mpl'))\n",
    "# mes = simulate_measure(qc, 1000)\n",
    "# display(Markdown(\"### 10 measurements: \" +str(simulate_measure(qc, 10))+ \" 1000 measurements: \" +str(2*np.arccos(np.sqrt(mes/1000)))))\n",
    "# display(Markdown(\"### 100 measurements: \" +str(simulate_measure(qc, 100))))\n",
    "# display(Markdown(\"### 1000 measurements: \" +str(simulate_measure(qc, 1000))))\n",
    "\n",
    "\n"
   ]
  },
  {
   "cell_type": "markdown",
   "metadata": {},
   "source": [
    "# Exercise 2\n",
    "![Ex2a](res/ex2_a.png)"
   ]
  },
  {
   "cell_type": "code",
   "execution_count": 276,
   "metadata": {},
   "outputs": [],
   "source": [
    "def extract_measure(qc, n_measure, show = False):\n",
    "    return simulate_measure(qc, n_measure, \"000\", show) + simulate_measure(qc, n_measure, \"001\") + simulate_measure(qc, n_measure, \"010\") + simulate_measure(qc, n_measure, \"011\")"
   ]
  },
  {
   "cell_type": "code",
   "execution_count": 277,
   "metadata": {},
   "outputs": [
    {
     "name": "stderr",
     "output_type": "stream",
     "text": [
      "C:\\Users\\admin\\AppData\\Local\\Temp\\ipykernel_29188\\1821072429.py:16: DeprecationWarning: The method ``qiskit.circuit.instructionset.InstructionSet.c_if()`` is deprecated as of qiskit 1.3.0. It will be removed in 2.0.0.\n",
      "  qc_z.x(2).c_if(1, 1)\n",
      "C:\\Users\\admin\\AppData\\Local\\Temp\\ipykernel_29188\\1821072429.py:17: DeprecationWarning: The method ``qiskit.circuit.instructionset.InstructionSet.c_if()`` is deprecated as of qiskit 1.3.0. It will be removed in 2.0.0.\n",
      "  qc_z.z(2).c_if(0, 1)\n"
     ]
    },
    {
     "data": {
      "image/png": "[encoded data removed]",
      "text/plain": [
       "<Figure size 789.163x367.889 with 1 Axes>"
      ]
     },
     "metadata": {},
     "output_type": "display_data"
    },
    {
     "data": {
      "text/markdown": [
       "### Expected Alpha: 0.8"
      ],
      "text/plain": [
       "<IPython.core.display.Markdown object>"
      ]
     },
     "metadata": {},
     "output_type": "display_data"
    },
    {
     "data": {
      "text/markdown": [
       "### 1000 measurements: 625 alpha: 0.79435508432942"
      ],
      "text/plain": [
       "<IPython.core.display.Markdown object>"
      ]
     },
     "metadata": {},
     "output_type": "display_data"
    }
   ],
   "source": [
    "qc_z = QuantumCircuit(3,3)\n",
    "\n",
    "amplitude_0 = 0.8\n",
    "amplitude_1 = 0.6\n",
    "phase = np.pi/3\n",
    "qc_z.initialize([amplitude_0, amplitude_1 * np.exp(1j * phase)], 0)\n",
    "\n",
    "state_00 = Statevector.from_label(\"00\")\n",
    "state_11 = Statevector.from_label(\"11\")\n",
    "bell_state = (state_00 + state_11) / np.sqrt(2)\n",
    "qc_z.initialize(bell_state, [1, 2])\n",
    "\n",
    "qc_z.cx(0,1)\n",
    "qc_z.h(0)\n",
    "qc_z.measure([0, 1], [0, 1])\n",
    "qc_z.x(2).c_if(1, 1)\n",
    "qc_z.z(2).c_if(0, 1)\n",
    "qc_z.measure(2, 2)\n",
    "display(qc_z.draw(output='mpl'))\n",
    "display(Markdown(\"### Expected Alpha: \" +str(0.8)))\n",
    "display(Markdown(\"### 1000 measurements: \" +str(simulate_measure(qc_z, 1000, [\"000\", \"001\", \"010\", \"011\"])) + \" alpha: \" +str(np.sqrt(simulate_measure(qc_z, 1000, [\"000\", \"001\", \"010\", \"011\"])/1000))))\n",
    "\n",
    "    "
   ]
  },
  {
   "cell_type": "code",
   "execution_count": 278,
   "metadata": {},
   "outputs": [
    {
     "name": "stderr",
     "output_type": "stream",
     "text": [
      "C:\\Users\\admin\\AppData\\Local\\Temp\\ipykernel_29188\\1754940886.py:16: DeprecationWarning: The method ``qiskit.circuit.instructionset.InstructionSet.c_if()`` is deprecated as of qiskit 1.3.0. It will be removed in 2.0.0.\n",
      "  qc_x.x(2).c_if(1, 1)\n",
      "C:\\Users\\admin\\AppData\\Local\\Temp\\ipykernel_29188\\1754940886.py:17: DeprecationWarning: The method ``qiskit.circuit.instructionset.InstructionSet.c_if()`` is deprecated as of qiskit 1.3.0. It will be removed in 2.0.0.\n",
      "  qc_x.z(2).c_if(0, 1)\n"
     ]
    },
    {
     "data": {
      "image/png": "[encoded data removed]",
      "text/plain": [
       "<Figure size 872.774x367.889 with 1 Axes>"
      ]
     },
     "metadata": {},
     "output_type": "display_data"
    },
    {
     "data": {
      "text/markdown": [
       "### Expected BetaRe: 0.30000000000000004"
      ],
      "text/plain": [
       "<IPython.core.display.Markdown object>"
      ]
     },
     "metadata": {},
     "output_type": "display_data"
    },
    {
     "data": {
      "text/markdown": [
       "### 1000 measurements: 738 betaRe: 0.32125 betaRe with z extimate: 0.3248223894138715"
      ],
      "text/plain": [
       "<IPython.core.display.Markdown object>"
      ]
     },
     "metadata": {},
     "output_type": "display_data"
    }
   ],
   "source": [
    "qc_x = QuantumCircuit(3,3)\n",
    "\n",
    "amplitude_0 = 0.8\n",
    "amplitude_1 = 0.6\n",
    "phase = np.pi/3\n",
    "qc_x.initialize([amplitude_0, amplitude_1 * np.exp(1j * phase)], 0)\n",
    "\n",
    "state_00 = Statevector.from_label(\"00\")\n",
    "state_11 = Statevector.from_label(\"11\")\n",
    "bell_state = (state_00 + state_11) / np.sqrt(2)\n",
    "qc_x.initialize(bell_state, [1, 2])\n",
    "\n",
    "qc_x.cx(0,1)\n",
    "qc_x.h(0)\n",
    "qc_x.measure([0, 1], [0, 1])\n",
    "qc_x.x(2).c_if(1, 1)\n",
    "qc_x.z(2).c_if(0, 1)\n",
    "qc_x.h(2)\n",
    "qc_x.measure(2, 2)\n",
    "display(qc_x.draw(output='mpl'))\n",
    "display(Markdown(\"### Expected BetaRe: \" +str(0.6*np.cos(np.pi/3))))\n",
    "p0 = simulate_measure(qc_x, 1000, [\"000\", \"001\", \"010\", \"011\"])/1000\n",
    "t = p0 - (1 - p0)\n",
    "display(Markdown(\"### 1000 measurements: \" +str(simulate_measure(qc_x, 1000, [\"000\", \"001\", \"010\", \"011\"])) + \" betaRe: \" +str(t/1.6) + \" betaRe with z extimate: \" +str(t/(2*np.sqrt(simulate_measure(qc_z, 1000, [\"000\", \"001\", \"010\", \"011\"])/1000)))))\n"
   ]
  },
  {
   "cell_type": "code",
   "execution_count": 279,
   "metadata": {},
   "outputs": [
    {
     "name": "stderr",
     "output_type": "stream",
     "text": [
      "C:\\Users\\admin\\AppData\\Local\\Temp\\ipykernel_29188\\1177878516.py:16: DeprecationWarning: The method ``qiskit.circuit.instructionset.InstructionSet.c_if()`` is deprecated as of qiskit 1.3.0. It will be removed in 2.0.0.\n",
      "  qc_y.x(2).c_if(1, 1)\n",
      "C:\\Users\\admin\\AppData\\Local\\Temp\\ipykernel_29188\\1177878516.py:17: DeprecationWarning: The method ``qiskit.circuit.instructionset.InstructionSet.c_if()`` is deprecated as of qiskit 1.3.0. It will be removed in 2.0.0.\n",
      "  qc_y.z(2).c_if(0, 1)\n"
     ]
    },
    {
     "data": {
      "image/png": "[encoded data removed]",
      "text/plain": [
       "<Figure size 956.385x367.889 with 1 Axes>"
      ]
     },
     "metadata": {},
     "output_type": "display_data"
    },
    {
     "data": {
      "text/markdown": [
       "### Expected BetaIm: 0.5196152422706631"
      ],
      "text/plain": [
       "<IPython.core.display.Markdown object>"
      ]
     },
     "metadata": {},
     "output_type": "display_data"
    },
    {
     "data": {
      "text/markdown": [
       "### 1000 measurements: 72 betaIm: 0.52875 betaIm with z extimate: 0.5407103171373961"
      ],
      "text/plain": [
       "<IPython.core.display.Markdown object>"
      ]
     },
     "metadata": {},
     "output_type": "display_data"
    }
   ],
   "source": [
    "qc_y = QuantumCircuit(3,3)\n",
    "\n",
    "amplitude_0 = 0.8\n",
    "amplitude_1 = 0.6\n",
    "phase = np.pi/3\n",
    "qc_y.initialize([amplitude_0, amplitude_1 * np.exp(1j * phase)], 0)\n",
    "\n",
    "state_00 = Statevector.from_label(\"00\")\n",
    "state_11 = Statevector.from_label(\"11\")\n",
    "bell_state = (state_00 + state_11) / np.sqrt(2)\n",
    "qc_y.initialize(bell_state, [1, 2])\n",
    "\n",
    "qc_y.cx(0,1)\n",
    "qc_y.h(0)\n",
    "qc_y.measure([0, 1], [0, 1])\n",
    "qc_y.x(2).c_if(1, 1)\n",
    "qc_y.z(2).c_if(0, 1)\n",
    "qc_y.s(2)\n",
    "qc_y.h(2)\n",
    "qc_y.measure(2, 2)\n",
    "display(qc_y.draw(output='mpl'))\n",
    "display(Markdown(\"### Expected BetaIm: \" +str(0.6*np.sin(np.pi/3))))\n",
    "p0 = simulate_measure(qc_y, 1000, [\"000\", \"001\", \"010\", \"011\"])/1000\n",
    "t = (1 - p0) - p0\n",
    "display(Markdown(\"### 1000 measurements: \" +str(simulate_measure(qc_y, 1000, [\"000\", \"001\", \"010\", \"011\"])) + \" betaIm: \" +str(t/1.6) + \" betaIm with z extimate: \" +str(t/(2*np.sqrt(simulate_measure(qc_z, 1000, [\"000\", \"001\", \"010\", \"011\"])/1000))))) "
   ]
  }
 ],
 "metadata": {
  "kernelspec": {
   "display_name": "base",
   "language": "python",
   "name": "python3"
  },
  "language_info": {
   "codemirror_mode": {
    "name": "ipython",
    "version": 3
   },
   "file_extension": ".py",
   "mimetype": "text/x-python",
   "name": "python",
   "nbconvert_exporter": "python",
   "pygments_lexer": "ipython3",
   "version": "3.11.5"
  }
 },
 "nbformat": 4,
 "nbformat_minor": 2
}
