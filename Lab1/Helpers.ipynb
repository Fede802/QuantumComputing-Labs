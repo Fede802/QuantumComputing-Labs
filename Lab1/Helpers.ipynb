{
 "cells": [
  {
   "cell_type": "markdown",
   "metadata": {},
   "source": [
    "## Helper utilities\n",
    "This notebook provides some functions useful to solve laboratory exercises."
   ]
  },
  {
   "cell_type": "code",
   "execution_count": 1,
   "metadata": {},
   "outputs": [],
   "source": [
    "#Imports\n",
    "import matplotlib.pyplot as plt  # for plots\n",
    "import numpy as np\n",
    "from qiskit import __version__\n",
    "from qiskit.quantum_info import Operator  # to extract the circuit matrix\n",
    "from qiskit.visualization import array_to_latex # to display matrices and state vectors in latex format\n",
    "from qiskit.visualization import plot_bloch_vector # to display results in a nice way\n",
    "from IPython.display import display\n",
    "import math\n",
    "import sys"
   ]
  },
  {
   "cell_type": "code",
   "execution_count": 1,
   "metadata": {},
   "outputs": [],
   "source": [
    "def get_qiskit_version():\n",
    "    print(\"Qiskit\",__version__, \"is installed\")"
   ]
  },
  {
   "cell_type": "code",
   "execution_count": 2,
   "metadata": {},
   "outputs": [],
   "source": [
    "def get_python_version():\n",
    "    print(\"The current python version is: \" + sys.version)"
   ]
  },
  {
   "cell_type": "code",
   "execution_count": 4,
   "metadata": {},
   "outputs": [],
   "source": [
    "# conversion from statevector to spherical coordinates\n",
    "def get_spherical_coordinates(statevector):\n",
    "    # Convert to polar form:\n",
    "    r0 = np.abs(statevector[0])\n",
    "    ϕ0 = np.angle(statevector[0])\n",
    "\n",
    "    r1 = np.abs(statevector[1])\n",
    "    ϕ1 = np.angle(statevector[1])\n",
    "\n",
    "    # Calculate the coordinates:\n",
    "    r = np.sqrt(r0 ** 2 + r1 ** 2)\n",
    "    θ = 2 * np.arccos(r0 / r)\n",
    "    ϕ = ϕ1 - ϕ0\n",
    "    \n",
    "    return [r,θ,ϕ]\n",
    "\n",
    "# Example \n",
    "# Ψ = [complex(1 / np.sqrt(2), 0), complex(1 / np.sqrt(2), 0)]\n",
    "# plot_bloch_vector(get_spherical_coordinates(Ψ), coord_type = 'spherical')"
   ]
  },
  {
   "cell_type": "code",
   "execution_count": 5,
   "metadata": {},
   "outputs": [],
   "source": [
    "# conversion from state vector to cartesian coordinates\n",
    "def get_cartesian_coordinates(statevector):\n",
    "    # convert to polar form\n",
    "    [r, θ, ϕ] = get_spherical_coordinates(statevector);\n",
    "    # since the radius of Bloch sphere is 1 we set r=1\n",
    "    r=1\n",
    "    x = r*math.sin(θ)*math.cos(ϕ)\n",
    "    y = r*math.sin(θ)*math.sin(ϕ)\n",
    "    z = r*math.cos(θ)\n",
    "    \n",
    "    return [x,y,z]\n",
    "#Example\n",
    "#[x,y,z]=get_cartesian_coordinates(final_state)\n",
    "#print(x,y,z)"
   ]
  },
  {
   "cell_type": "code",
   "execution_count": 6,
   "metadata": {},
   "outputs": [],
   "source": [
    "def plot_two_statevectors_on_bloch_sphere(statevectorIn, statevectorOut, coord_type=\"spherical\"):\n",
    "    # plot the two state vectors of a single qubit circuit on the Bloch sphere\n",
    "    \"\"\"Args:\n",
    "        statevectorIn: The input state vector.\n",
    "        statevectorOut  The output state vector.\n",
    "    Returns: A plot of the two state vectors on the Bloch sphere.\n",
    "    \"\"\" \n",
    "    if coord_type == \"spherical\": # convert statevectors to spherical coordinates\n",
    "        coord_in = get_spherical_coordinates(statevectorIn)\n",
    "        coord_out = get_spherical_coordinates(statevectorOut)    \n",
    "    \n",
    "    else: # convert statevectors to cartesian coordinates\n",
    "        coord_in = get_cartesian_coordinates(statevectorIn)\n",
    "        coord_out = get_cartesian_coordinates(statevectorOut)\n",
    "    \n",
    "    # plot the two state vectors\n",
    "    fig = plt.figure(figsize = [6, 9])\n",
    "\n",
    "    states = [\n",
    "        coord_in, # input state vector\n",
    "        coord_out, # output state vector\n",
    "        ]\n",
    "    \n",
    "        # Values are in fractions of figure width and height:\n",
    "    positions = [\n",
    "        [0, 0],\n",
    "        [0.5, 0],\n",
    "        ]\n",
    "    titles=['Input state vector','Output state vector']\n",
    "    for i in range(2):        \n",
    "        ax = fig.add_axes([positions[i][0], positions[i][1], 0.5, 0.333], projection='3d')\n",
    "        plot_bloch_vector(states[i],  coord_type=coord_type, title = titles[i], ax = ax)\n",
    "    plt.show()"
   ]
  },
  {
   "cell_type": "code",
   "execution_count": 7,
   "metadata": {},
   "outputs": [],
   "source": [
    "def plot_statevector(stateVec,label):\n",
    "    \"\"\"\n",
    "    Plots the real and imaginary parts of a state vector in a bar chart.\n",
    "    Args: \n",
    "      stateVec: the state vector to be plotted\n",
    "      label: the title of the plot\n",
    "      Returns:\n",
    "      A bar chart with the real and imaginary parts of the state vector.\n",
    "     \"\"\"\n",
    "    # Get the dimension of the state vector\n",
    "    dim=stateVec.data.shape[0]\n",
    "    # Create the xticks and xticks_labels\n",
    "    my_xticks=[i for i in range(dim)]\n",
    "    my_xticks_labels = [format(i, '0'+str(int(np.log2(dim)))+'b') for i in range(dim)]\n",
    "\n",
    "    stateVecAL = np.array(stateVec)\n",
    "    fig, axs = plt.subplots(2)\n",
    "    fig.suptitle(label)\n",
    "    markerline0, stemlines0, baseline0 = axs[0].stem(\n",
    "        np.arange(0, dim, 1), stateVecAL.real, 'tab:blue')\n",
    "    axs[0].set(ylabel='Real Part', xticks=my_xticks)\n",
    "    markerline1, stemlines1, baseline1 = axs[1].stem(\n",
    "        np.arange(0, dim, 1), stateVecAL.imag, 'tab:orange')\n",
    "    axs[1].set(xlabel='States', ylabel='Imaginary Part')\n",
    "    plt.setp(axs, xticks=np.arange(0, dim, 1), xticklabels=my_xticks_labels)\n",
    "    plt.setp(baseline0, 'color', 'k', 'linewidth', 2)\n",
    "    plt.setp(baseline1, 'color', 'k', 'linewidth', 2)\n",
    "    plt.show()"
   ]
  },
  {
   "cell_type": "code",
   "execution_count": 8,
   "metadata": {},
   "outputs": [],
   "source": [
    "def derive_unitary_matrix(circuit):\n",
    "    \"\"\"Derive the unitary matrix from a quantum circuit.    \n",
    "    Args:   \n",
    "        circuit (QuantumCircuit): The quantum circuit to derive the unitary matrix from. \n",
    "        Returns: The unitary matrix of the quantum circuit in latex format.  \n",
    "    \"\"\"\n",
    "    # Define the unitary operator from the circuit\n",
    "    UnitaryRepresentation= Operator(circuit)\n",
    "    # Print the matrix\n",
    "    Unitary_latex= array_to_latex(UnitaryRepresentation.data)\n",
    "    return Unitary_latex"
   ]
  },
  {
   "cell_type": "code",
   "execution_count": 9,
   "metadata": {},
   "outputs": [],
   "source": [
    "def print_unitary(circuit1, circuit2):\n",
    "    \"\"\"\n",
    "    Print the unitary matrix of two quantum circuit in latex format.\n",
    "\n",
    "    Parameters:\n",
    "    circuit1 (QuantumCircuit): The first quantum circuit to print the unitary matrix of.\n",
    "    circuit2 (QuantumCircuit): The second quantum circuit to print the unitary matrix of.\n",
    "    \"\"\"\n",
    "    # Convert the circuit to a unitary matrix and print it\n",
    "    display(array_to_latex(Operator(circuit1).data),array_to_latex(Operator(circuit2).data))"
   ]
  },
  {
   "cell_type": "code",
   "execution_count": 10,
   "metadata": {},
   "outputs": [],
   "source": [
    "def compare_unitary(circuit1, circuit2):\n",
    "    \"\"\"\n",
    "    Compare two quantum circuits by converting them to unitary matrices and checking if they are equivalent.\n",
    "\n",
    "    Parameters:\n",
    "    circuit1 (QuantumCircuit): The first quantum circuit to compare.\n",
    "    circuit2 (QuantumCircuit): The second quantum circuit to compare.\n",
    "\n",
    "    Returns:\n",
    "    bool: True if the unitary matrices of the circuits are equivalent, False otherwise.\n",
    "    \"\"\"\n",
    "\n",
    "    # Convert the circuits to unitary matrices\n",
    "    unitary1 = Operator(circuit1)\n",
    "    unitary2 = Operator(circuit2)\n",
    "    print_unitary(circuit1, circuit2)\n",
    "    \n",
    "    # Compare the unitary matrices\n",
    "    if (unitary1.equiv(unitary2)):\n",
    "        return True\n",
    "    else:\n",
    "        return False"
   ]
  },
  {
   "cell_type": "code",
   "execution_count": 11,
   "metadata": {},
   "outputs": [],
   "source": [
    "def evolve_state_vector(circuit, initial_state_vector):\n",
    "    \"\"\"Derive the state vector from a quantum circuit.    \n",
    "    Args:   \n",
    "        circuit (QuantumCircuit): The quantum circuit to derive the state vector from. \n",
    "        initial_state_vector (array): The initial state vector to evolve. \n",
    "        Returns: The state vector of the quantum circuit in latex format.  \n",
    "    \"\"\"\n",
    "   # Evolve the state vector using the given circuit\n",
    "    statevectorOut = initial_state_vector.evolve(circuit)\n",
    "    # Display the evolved state vector\n",
    "    statevectorOut_latex=array_to_latex(statevectorOut, prefix=\"\\\\text{Statevector = }\")\n",
    "    return statevectorOut_latex"
   ]
  }
 ],
 "metadata": {
  "kernelspec": {
   "display_name": "LabQC_2025",
   "language": "python",
   "name": "python3"
  },
  "language_info": {
   "codemirror_mode": {
    "name": "ipython",
    "version": 3
   },
   "file_extension": ".py",
   "mimetype": "text/x-python",
   "name": "python",
   "nbconvert_exporter": "python",
   "pygments_lexer": "ipython3",
   "version": "3.12.4"
  }
 },
 "nbformat": 4,
 "nbformat_minor": 2
}
