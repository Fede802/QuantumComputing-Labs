{
 "cells": [
  {
   "cell_type": "code",
   "execution_count": 7,
   "metadata": {},
   "outputs": [],
   "source": [
    "import os\n",
    "import sys\n",
    "sys.path.insert(0, os.path.abspath('../utils'))\n",
    "import Helpers as hp\n",
    "import qiskit\n",
    "from qiskit import QuantumCircuit\n",
    "from qiskit.quantum_info import Statevector # to compute state vectors\n",
    "from qiskit.visualization import array_to_latex\n",
    "import numpy as np\n",
    "from IPython.display import display, Markdown, Latex"
   ]
  },
  {
   "cell_type": "markdown",
   "metadata": {},
   "source": [
    "# Exercise 1\n",
    "\n",
    "![Ex1](res/ex1.png)"
   ]
  },
  {
   "cell_type": "code",
   "execution_count": 8,
   "metadata": {},
   "outputs": [
    {
     "data": {
      "image/png": "[encoded data removed]",
      "text/plain": [
       "<Figure size 1040x284.278 with 1 Axes>"
      ]
     },
     "metadata": {},
     "output_type": "display_data"
    },
    {
     "data": {
      "text/latex": [
       "\n",
       "\\begin{array}{c c c | c}\n",
       "\\textbf{Input} & & & \\textbf{Output State} \\\\\n",
       "q_2 & q_1 & q_0 & \\ket{\\psi} \\\\\n",
       "\\hline\n",
       "0 & 0 & 0 & [1 0 0 0 0 0 0 0] = |000\\rangle \\\\\n",
       "0 & 0 & 1 & [0 1 0 0 0 0 0 0] = |001\\rangle \\\\\n",
       "0 & 1 & 0 & [0 0 1 0 0 0 0 0] = |010\\rangle\\\\\n",
       "0 & 1 & 1 & [0 0 0 0 0 0 0 1] = |111\\rangle \\\\\n",
       "1 & 0 & 0 & [0 0 0 0 1 0 0 0] = |100\\rangle\\\\\n",
       "1 & 0 & 1 & [0 0 0 0 0 1 0 0] = |101\\rangle \\\\\n",
       "1 & 1 & 0 & [0 0 0 0 0 0 1 0] = |110\\rangle \\\\\n",
       "1 & 1 & 1 & [0 0 0 1 0 0 0 0] = |011\\rangle \\\\\n",
       "\\end{array}\n"
      ],
      "text/plain": [
       "<IPython.core.display.Latex object>"
      ]
     },
     "metadata": {},
     "output_type": "display_data"
    }
   ],
   "source": [
    "def out_state(osv, ost):\n",
    "  return \"[\"+array_to_latex(osv).data.replace(\"\\\\begin{bmatrix}\", \"\").replace(\"\\\\end{bmatrix}\", \"\").replace(\" & \", \" \")[2:][:-7].strip()+\"] = |\"+ost+\"\\\\rangle\"\n",
    "\n",
    "qc = QuantumCircuit(3)\n",
    "qc.h(2)\n",
    "qc.cx(1, 2)\n",
    "qc.t(2).inverse()\n",
    "qc.cx(0, 2)\n",
    "qc.t(2)\n",
    "qc.cx(1, 2)\n",
    "qc.t(2).inverse()\n",
    "qc.t(1)\n",
    "qc.cx(0, 2)\n",
    "qc.t(2)\n",
    "qc.cx(0, 1)\n",
    "qc.h(2)\n",
    "qc.t(1).inverse()\n",
    "qc.t(0)\n",
    "qc.cx(0, 1)\n",
    "display(qc.draw(output='mpl'))\n",
    "display(Latex(rf\"\"\"\n",
    "\\begin{{array}}{{c c c | c}}\n",
    "\\textbf{{Input}} & & & \\textbf{{Output State}} \\\\\n",
    "q_2 & q_1 & q_0 & \\ket{{\\psi}} \\\\\n",
    "\\hline\n",
    "0 & 0 & 0 & {out_state(Statevector.from_label('000').evolve(qc), \"000\")} \\\\\n",
    "0 & 0 & 1 & {out_state(Statevector.from_label('001').evolve(qc), \"001\")} \\\\\n",
    "0 & 1 & 0 & {out_state(Statevector.from_label('010').evolve(qc), \"010\")}\\\\\n",
    "0 & 1 & 1 & {out_state(Statevector.from_label('011').evolve(qc), \"111\")} \\\\\n",
    "1 & 0 & 0 & {out_state(Statevector.from_label('100').evolve(qc), \"100\")}\\\\\n",
    "1 & 0 & 1 & {out_state(Statevector.from_label('101').evolve(qc), \"101\")} \\\\\n",
    "1 & 1 & 0 & {out_state(Statevector.from_label('110').evolve(qc), \"110\")} \\\\\n",
    "1 & 1 & 1 & {out_state(Statevector.from_label('111').evolve(qc), \"011\")} \\\\\n",
    "\\end{{array}}\n",
    "\"\"\"))"
   ]
  },
  {
   "cell_type": "markdown",
   "metadata": {},
   "source": [
    "<!-- \\\\begin{array}{c c c | c}\n",
    "    \\\\text{Input } \\\\ket{q_2 q_1 q_0} & & & & \\\\text{Output State} \\\\\\\\\n",
    "    q_2 & q_1 & q_0 & \\\\ket{\\\\psi} \\\\\\\\\n",
    "    \\\\hline\n",
    "    0 & 0 & 0 &  \\\\\\\\\n",
    "    0 & 0 & 1 &  \\\\\\\\\n",
    "    0 & 1 & 0 &  \\\\\\\\\n",
    "    0 & 1 & 1 &  \\\\\\\\\n",
    "    1 & 0 & 0 &  \\\\\\\\\n",
    "    1 & 0 & 1 &  \\\\\\\\\n",
    "    1 & 1 & 0 &  \\\\\\\\\n",
    "    1 & 1 & 1 &  \\\\\\\\\n",
    "\\\\end{array} -->\n",
    "\n"
   ]
  }
 ],
 "metadata": {
  "kernelspec": {
   "display_name": "base",
   "language": "python",
   "name": "python3"
  },
  "language_info": {
   "codemirror_mode": {
    "name": "ipython",
    "version": 3
   },
   "file_extension": ".py",
   "mimetype": "text/x-python",
   "name": "python",
   "nbconvert_exporter": "python",
   "pygments_lexer": "ipython3",
   "version": "3.11.5"
  }
 },
 "nbformat": 4,
 "nbformat_minor": 2
}
